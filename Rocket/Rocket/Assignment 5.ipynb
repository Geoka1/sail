{
 "cells": [
  {
   "cell_type": "code",
   "execution_count": 1,
   "id": "9879d9ea",
   "metadata": {},
   "outputs": [
    {
     "name": "stdout",
     "output_type": "stream",
     "text": [
      "the accuracy is: 0.8833333333333333\n"
     ]
    }
   ],
   "source": [
    "#from rocket_functions import generate_kernels, apply_kernels\n",
    "import rocket \n",
    "from sklearn.linear_model import RidgeClassifierCV\n",
    "import pandas as pd\n",
    "import numpy as np\n",
    "\n",
    "\n",
    "training = pd.read_csv(\"./Car/Car_TRAIN.tsv\", sep=\"\\t\", header=None)\n",
    "test = pd.read_csv(\"./Car/Car_TEST.tsv\", sep=\"\\t\", header=None)\n",
    "\n",
    "training = np.array(training)\n",
    "test = np.array(test)\n",
    "\n",
    "X_training = training[:,1:]\n",
    "Y_training = training[:,0]\n",
    "X_test = test[:,1:]\n",
    "Y_test = test[:,0]\n",
    "input_length = X_training.shape[-1]\n",
    "\n",
    "\n",
    "\n",
    "# transform training set and train classifier\n",
    "transformer = rocket.RocketModel(input_length, 10000)\n",
    "X_training_transform = transformer(X_training)\n",
    "classifier = RidgeClassifierCV(alphas = np.logspace(-3, 3, 10), normalize = True)\n",
    "classifier.fit(X_training_transform, Y_training)\n",
    "\n",
    "# transform test set and predict\n",
    "X_test_transform = rocket(X_test)\n",
    "predictions = classifier.predict(X_test_transform)\n",
    "\n",
    "# print accuracy\n",
    "accuracy = sum(predictions == Y_test) / Y_test.shape[0]\n",
    "print(\"the accuracy is: {}\".format(accuracy))"
   ]
  },
  {
   "cell_type": "code",
   "execution_count": null,
   "id": "9ba39418",
   "metadata": {},
   "outputs": [],
   "source": []
  }
 ],
 "metadata": {
  "kernelspec": {
   "display_name": "Python 3",
   "language": "python",
   "name": "python3"
  },
  "language_info": {
   "codemirror_mode": {
    "name": "ipython",
    "version": 3
   },
   "file_extension": ".py",
   "mimetype": "text/x-python",
   "name": "python",
   "nbconvert_exporter": "python",
   "pygments_lexer": "ipython3",
   "version": "3.6.13"
  }
 },
 "nbformat": 4,
 "nbformat_minor": 5
}
