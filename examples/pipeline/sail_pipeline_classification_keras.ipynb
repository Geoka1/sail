{
 "cells": [
  {
   "cell_type": "code",
   "execution_count": 1,
   "metadata": {},
   "outputs": [],
   "source": [
    "import numpy as np\n",
    "import pandas as pd\n",
    "from sail.pipeline import SAILPipeline\n",
    "from sail.models.keras import KerasSequentialClassifier\n",
    "from sklearn.impute import SimpleImputer\n",
    "from sail.transformers.river.preprocessing import StandardScaler"
   ]
  },
  {
   "attachments": {},
   "cell_type": "markdown",
   "metadata": {},
   "source": [
    "#### Load Data\n"
   ]
  },
  {
   "cell_type": "code",
   "execution_count": 2,
   "metadata": {},
   "outputs": [],
   "source": [
    "X = pd.read_csv(\"../datasets/agrawal.csv\").head(5000)\n",
    "\n",
    "y = X[\"class\"]\n",
    "X.drop(\"class\", axis=1, inplace=True)"
   ]
  },
  {
   "attachments": {},
   "cell_type": "markdown",
   "metadata": {},
   "source": [
    "#### Model Definition\n"
   ]
  },
  {
   "cell_type": "code",
   "execution_count": 3,
   "metadata": {},
   "outputs": [],
   "source": [
    "model = KerasSequentialClassifier(\n",
    "    num_hidden_nodes= 8,\n",
    "    hidden_layer_activation= \"relu\",\n",
    "    num_output_nodes= 1,\n",
    "    outer_layer_activation=\"sigmoid\"\n",
    ")"
   ]
  },
  {
   "attachments": {},
   "cell_type": "markdown",
   "metadata": {},
   "source": [
    "#### Create SAIL Pipeline\n"
   ]
  },
  {
   "cell_type": "code",
   "execution_count": 4,
   "metadata": {},
   "outputs": [],
   "source": [
    "steps = [\n",
    "    (\"Imputer\", SimpleImputer(missing_values=np.nan, strategy=\"mean\")),\n",
    "    (\"standard_scalar\", StandardScaler()),\n",
    "    (\"classifier\", model),\n",
    "]\n",
    "sail_pipeline = SAILPipeline(steps=steps, scoring=\"Accuracy\", verbosity_level=1, verbosity_interval=50)"
   ]
  },
  {
   "attachments": {},
   "cell_type": "markdown",
   "metadata": {},
   "source": [
    "#### Start Incremental Training\n"
   ]
  },
  {
   "cell_type": "code",
   "execution_count": 5,
   "metadata": {},
   "outputs": [
    {
     "name": "stderr",
     "output_type": "stream",
     "text": [
      "\n",
      "    \n",
      ">> Epoch: 1 | Samples Seen: 0 -------------------------------------------------------------------------------------\n",
      "SAIL Pipeline Partial fit [classifier]:  67%======     [Steps: 2/3, ETA: 00:00<00:00, Elapsed:0.010s, Batch Size=5]     2023-10-03 21:59:00.398933: W tensorflow/tsl/platform/profile_utils/cpu_utils.cc:128] Failed to get CPU frequency: 0 Hz\n",
      "SAIL Pipeline Partial fit: 100%========== [Steps: 3/3, ETA: 00:00<00:00, Elapsed:0.383s, Batch Size=5, P_Score=0]             \n",
      "\n",
      "    \n",
      ">> Epoch: 50 | Samples Seen: 245 -------------------------------------------------------------------------------------\n",
      "SAIL Pipeline Partial fit: 100%========== [Steps: 3/3, ETA: 00:00<00:00, Elapsed:0.038s, Batch Size=5, P_Score=0.396]             \n",
      "\n",
      "    \n",
      ">> Epoch: 100 | Samples Seen: 495 -------------------------------------------------------------------------------------\n",
      "SAIL Pipeline Partial fit: 100%========== [Steps: 3/3, ETA: 00:00<00:00, Elapsed:0.167s, Batch Size=5, P_Score=0.44]             \n",
      "\n",
      "    \n",
      ">> Epoch: 150 | Samples Seen: 745 -------------------------------------------------------------------------------------\n",
      "SAIL Pipeline Partial fit: 100%========== [Steps: 3/3, ETA: 00:00<00:00, Elapsed:0.037s, Batch Size=5, P_Score=0.448]             \n",
      "\n",
      "    \n",
      ">> Epoch: 200 | Samples Seen: 995 -------------------------------------------------------------------------------------\n",
      "SAIL Pipeline Partial fit: 100%========== [Steps: 3/3, ETA: 00:00<00:00, Elapsed:0.038s, Batch Size=5, P_Score=0.473]             \n",
      "\n",
      "    \n",
      ">> Epoch: 250 | Samples Seen: 1245 -------------------------------------------------------------------------------------\n",
      "SAIL Pipeline Partial fit: 100%========== [Steps: 3/3, ETA: 00:00<00:00, Elapsed:0.037s, Batch Size=5, P_Score=0.482]             \n",
      "\n",
      "    \n",
      ">> Epoch: 300 | Samples Seen: 1495 -------------------------------------------------------------------------------------\n",
      "SAIL Pipeline Partial fit: 100%========== [Steps: 3/3, ETA: 00:00<00:00, Elapsed:0.037s, Batch Size=5, P_Score=0.499]             \n",
      "\n",
      "    \n",
      ">> Epoch: 350 | Samples Seen: 1745 -------------------------------------------------------------------------------------\n",
      "SAIL Pipeline Partial fit: 100%========== [Steps: 3/3, ETA: 00:00<00:00, Elapsed:0.036s, Batch Size=5, P_Score=0.509]             \n",
      "\n",
      "    \n",
      ">> Epoch: 400 | Samples Seen: 1995 -------------------------------------------------------------------------------------\n",
      "SAIL Pipeline Partial fit: 100%========== [Steps: 3/3, ETA: 00:00<00:00, Elapsed:0.036s, Batch Size=5, P_Score=0.52]             \n"
     ]
    }
   ],
   "source": [
    "y_preds = []\n",
    "y_true = []\n",
    "batch_size = 5\n",
    "for start in range(0, 2000, batch_size):\n",
    "\n",
    "    end = start + batch_size\n",
    "\n",
    "    Xt = X.iloc[start:end]\n",
    "    yt = y.iloc[start:end]\n",
    "\n",
    "    if start != 0 :\n",
    "        preds = sail_pipeline.predict(Xt)\n",
    "        y_preds.extend(list(preds))\n",
    "        y_true.extend(list(yt))\n",
    "    \n",
    "    sail_pipeline.partial_fit(Xt, yt)"
   ]
  },
  {
   "attachments": {},
   "cell_type": "markdown",
   "metadata": {},
   "source": [
    "#### Final Score\n"
   ]
  },
  {
   "cell_type": "code",
   "execution_count": 6,
   "metadata": {},
   "outputs": [
    {
     "data": {
      "text/plain": [
       "0.5203007518796993"
      ]
     },
     "execution_count": 6,
     "metadata": {},
     "output_type": "execute_result"
    }
   ],
   "source": [
    "sail_pipeline.get_progressive_score"
   ]
  },
  {
   "cell_type": "code",
   "execution_count": 7,
   "metadata": {},
   "outputs": [
    {
     "name": "stdout",
     "output_type": "stream",
     "text": [
      "              precision    recall  f1-score   support\n",
      "\n",
      "           0       0.67      0.55      0.60      1317\n",
      "           1       0.35      0.46      0.40       678\n",
      "\n",
      "    accuracy                           0.52      1995\n",
      "   macro avg       0.51      0.51      0.50      1995\n",
      "weighted avg       0.56      0.52      0.53      1995\n",
      "\n"
     ]
    },
    {
     "data": {
      "text/plain": [
       "<Axes: >"
      ]
     },
     "execution_count": 7,
     "metadata": {},
     "output_type": "execute_result"
    },
    {
     "data": {
      "image/png": "[encoded data removed]",
      "text/plain": [
       "<Figure size 640x480 with 2 Axes>"
      ]
     },
     "metadata": {},
     "output_type": "display_data"
    }
   ],
   "source": [
    "import seaborn as sns\n",
    "from sklearn.metrics import confusion_matrix, classification_report\n",
    "\n",
    "print(classification_report(y_true, y_preds))\n",
    "cf_matrix = confusion_matrix(y_true, y_preds)\n",
    "sns.heatmap(cf_matrix/np.sum(cf_matrix), annot=True, fmt='.2%', cmap='Blues')"
   ]
  }
 ],
 "metadata": {
  "kernelspec": {
   "display_name": "sail",
   "language": "python",
   "name": "python3"
  },
  "language_info": {
   "codemirror_mode": {
    "name": "ipython",
    "version": 3
   },
   "file_extension": ".py",
   "mimetype": "text/x-python",
   "name": "python",
   "nbconvert_exporter": "python",
   "pygments_lexer": "ipython3",
   "version": "3.10.10"
  },
  "orig_nbformat": 4
 },
 "nbformat": 4,
 "nbformat_minor": 2
}
