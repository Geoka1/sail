{
 "cells": [
  {
   "cell_type": "code",
   "execution_count": 1,
   "metadata": {},
   "outputs": [],
   "source": [
    "import numpy as np\n",
    "import pandas as pd\n",
    "from river import optim\n",
    "from river import metrics\n",
    "from river.drift.binary import EDDM\n",
    "from sail.telemetry import TracingClient\n",
    "from sail.models.auto_ml.tune import SAILTuneGridSearchCV\n",
    "from sail.models.river.forest import AdaptiveRandomForestClassifier\n",
    "from sail.models.river.linear_model import LogisticRegression\n",
    "from sail.models.keras import KerasSequentialClassifier\n",
    "from sail.models.auto_ml.auto_pipeline import SAILAutoPipeline\n",
    "from sail.pipeline import SAILPipeline\n",
    "from sklearn.impute import SimpleImputer\n",
    "from sail.drift_detection.drift_detector import SAILDriftDetector\n",
    "from sail.transformers.river.preprocessing import StandardScaler"
   ]
  },
  {
   "attachments": {},
   "cell_type": "markdown",
   "metadata": {},
   "source": [
    "#### Load Data\n"
   ]
  },
  {
   "cell_type": "code",
   "execution_count": 2,
   "metadata": {},
   "outputs": [],
   "source": [
    "X = pd.read_csv(\"../../datasets/agrawal.csv\").head(50000)\n",
    "\n",
    "y = X[\"class\"]\n",
    "X.drop(\"class\", axis=1, inplace=True)"
   ]
  },
  {
   "attachments": {},
   "cell_type": "markdown",
   "metadata": {},
   "source": [
    "#### Model Definition\n"
   ]
  },
  {
   "cell_type": "code",
   "execution_count": 3,
   "metadata": {},
   "outputs": [],
   "source": [
    "logistic_reg = LogisticRegression(optimizer=optim.SGD(0.1))\n",
    "random_forest = AdaptiveRandomForestClassifier(n_models=10)\n",
    "keras = KerasSequentialClassifier(\n",
    "    num_hidden_nodes= [10],\n",
    "    hidden_layer_activation= [\"relu\"],\n",
    "    num_output_nodes= 1,\n",
    "    outer_layer_activation=\"sigmoid\"\n",
    ")"
   ]
  },
  {
   "attachments": {},
   "cell_type": "markdown",
   "metadata": {},
   "source": [
    "#### Create SAIL Pipeline\n"
   ]
  },
  {
   "cell_type": "code",
   "execution_count": 4,
   "metadata": {},
   "outputs": [],
   "source": [
    "steps = [\n",
    "    (\"Imputer\", SimpleImputer(missing_values=np.nan, strategy=\"mean\")),\n",
    "    (\"standard_scalar\", StandardScaler()),\n",
    "    (\"classifier\", \"passthrough\"),\n",
    "]\n",
    "sail_pipeline = SAILPipeline(steps=steps, scoring=metrics.Accuracy, verbosity_level=1, verbosity_interval=1)"
   ]
  },
  {
   "attachments": {},
   "cell_type": "markdown",
   "metadata": {},
   "source": [
    "#### HPO Params\n"
   ]
  },
  {
   "cell_type": "code",
   "execution_count": 5,
   "metadata": {},
   "outputs": [],
   "source": [
    "params_grid = [\n",
    "    {\n",
    "        \"classifier\": [logistic_reg],\n",
    "        \"classifier__l2\": [0.1, 0.9],\n",
    "        \"classifier__intercept_init\": [0.2, 0.5],\n",
    "    },\n",
    "    {\n",
    "        \"classifier\": [random_forest],\n",
    "        \"classifier__n_models\": [5, 10],\n",
    "        \"Imputer\": [\"passthrough\"],\n",
    "    },\n",
    "    {\n",
    "        \"classifier\": [keras],\n",
    "        \"classifier__num_hidden_nodes\": [[5], [10]]\n",
    "    }\n",
    "]\n"
   ]
  },
  {
   "attachments": {},
   "cell_type": "markdown",
   "metadata": {},
   "source": [
    "#### Create Model Instance\n"
   ]
  },
  {
   "cell_type": "code",
   "execution_count": 6,
   "metadata": {},
   "outputs": [
    {
     "name": "stderr",
     "output_type": "stream",
     "text": [
      "[2023-10-08 22:40:32:937] - INFO - SAIL (PipelineStrategy) - Pipeline Strategy [DetectAndIncrement] created with actions: ['DATA_COLLECTION', 'FIND_BEST_PIPELINE', 'SCORE_AND_DETECT_DRIFT', 'PARTIAL_FIT_MODEL']\n"
     ]
    }
   ],
   "source": [
    "# tracer = TracingClient(service_name=\"SAIL_Testing\", otlp_endpoint=\"http://localhost:4318\")\n",
    "\n",
    "auto_pipeline = SAILAutoPipeline(\n",
    "    pipeline=sail_pipeline,\n",
    "    pipeline_params_grid=params_grid,\n",
    "    search_method=SAILTuneGridSearchCV,\n",
    "    search_method_params={\n",
    "        \"num_cpus_per_trial\": 1,\n",
    "        \"max_iters\": 1,\n",
    "        \"early_stopping\": False,\n",
    "        \"mode\": \"max\",\n",
    "        \"scoring\": \"accuracy\",\n",
    "        \"pipeline_auto_early_stop\": False,\n",
    "        \"keep_best_configurations\": 2\n",
    "    },\n",
    "    search_data_size=1000,\n",
    "    incremental_training=True,\n",
    "    drift_detector=SAILDriftDetector(model=EDDM(), drift_param=\"difference\"),\n",
    "    pipeline_strategy=\"DetectAndIncrement\",\n",
    "    verbosity_level=1, \n",
    "    verbosity_interval=1,\n",
    "    tensorboard_log_dir=None,\n",
    "    tracer=None\n",
    ")"
   ]
  },
  {
   "attachments": {},
   "cell_type": "markdown",
   "metadata": {},
   "source": [
    "#### Start Training\n"
   ]
  },
  {
   "cell_type": "code",
   "execution_count": 7,
   "metadata": {},
   "outputs": [
    {
     "data": {
      "text/html": [
       "<div class=\"tuneStatus\">\n",
       "  <div style=\"display: flex;flex-direction: row\">\n",
       "    <div style=\"display: flex;flex-direction: column;\">\n",
       "      <h3>Tune Status</h3>\n",
       "      <table>\n",
       "<tbody>\n",
       "<tr><td>Current time:</td><td>2023-10-08 22:40:59</td></tr>\n",
       "<tr><td>Running for: </td><td>00:00:22.59        </td></tr>\n",
       "<tr><td>Memory:      </td><td>21.7/64.0 GiB      </td></tr>\n",
       "</tbody>\n",
       "</table>\n",
       "    </div>\n",
       "    <div class=\"vDivider\"></div>\n",
       "    <div class=\"systemInfo\">\n",
       "      <h3>System Info</h3>\n",
       "      Using FIFO scheduling algorithm.<br>Logical resource usage: 2.0/10 CPUs, 0/0 GPUs\n",
       "    </div>\n",
       "    \n",
       "  </div>\n",
       "  <div class=\"hDivider\"></div>\n",
       "  <div class=\"trialStatus\">\n",
       "    <h3>Trial Status</h3>\n",
       "    <table>\n",
       "<thead>\n",
       "<tr><th>Trial name         </th><th>status    </th><th>loc            </th><th>Imputer    </th><th>classifier          </th><th style=\"text-align: right;\">    classifier__intercep\n",
       "t_init</th><th style=\"text-align: right;\">  classifier__l2</th><th style=\"text-align: right;\">  classifier__n_models</th><th>classifier__num_hidd\n",
       "en_nodes     </th><th style=\"text-align: right;\">  iter</th><th style=\"text-align: right;\">  total time (s)</th><th style=\"text-align: right;\">  split0_test_score</th><th style=\"text-align: right;\">  split1_test_score</th><th style=\"text-align: right;\">  split2_test_score</th></tr>\n",
       "</thead>\n",
       "<tbody>\n",
       "<tr><td>_Trainable_56baa224</td><td>TERMINATED</td><td>127.0.0.1:47120</td><td>           </td><td>LogisticRegress_80a0</td><td style=\"text-align: right;\">0.2</td><td style=\"text-align: right;\">             0.1</td><td style=\"text-align: right;\">                      </td><td>    </td><td style=\"text-align: right;\">     1</td><td style=\"text-align: right;\">        0.110231</td><td style=\"text-align: right;\">              0.59 </td><td style=\"text-align: right;\">              0.655</td><td style=\"text-align: right;\">              0.545</td></tr>\n",
       "<tr><td>_Trainable_c50b8bd3</td><td>TERMINATED</td><td>127.0.0.1:47120</td><td>           </td><td>LogisticRegress_b7c0</td><td style=\"text-align: right;\">0.2</td><td style=\"text-align: right;\">             0.9</td><td style=\"text-align: right;\">                      </td><td>    </td><td style=\"text-align: right;\">     1</td><td style=\"text-align: right;\">        0.110854</td><td style=\"text-align: right;\">              0.67 </td><td style=\"text-align: right;\">              0.68 </td><td style=\"text-align: right;\">              0.63 </td></tr>\n",
       "<tr><td>_Trainable_a8cdbd4d</td><td>TERMINATED</td><td>127.0.0.1:47120</td><td>           </td><td>LogisticRegress_9570</td><td style=\"text-align: right;\">0.5</td><td style=\"text-align: right;\">             0.1</td><td style=\"text-align: right;\">                      </td><td>    </td><td style=\"text-align: right;\">     1</td><td style=\"text-align: right;\">        0.111903</td><td style=\"text-align: right;\">              0.585</td><td style=\"text-align: right;\">              0.65 </td><td style=\"text-align: right;\">              0.55 </td></tr>\n",
       "<tr><td>_Trainable_a01126db</td><td>TERMINATED</td><td>127.0.0.1:47120</td><td>           </td><td>LogisticRegress_9e10</td><td style=\"text-align: right;\">0.5</td><td style=\"text-align: right;\">             0.9</td><td style=\"text-align: right;\">                      </td><td>    </td><td style=\"text-align: right;\">     1</td><td style=\"text-align: right;\">        0.142116</td><td style=\"text-align: right;\">              0.665</td><td style=\"text-align: right;\">              0.68 </td><td style=\"text-align: right;\">              0.63 </td></tr>\n",
       "<tr><td>_Trainable_e5069953</td><td>TERMINATED</td><td>127.0.0.1:47120</td><td>passthrough</td><td>AdaptiveRandomF_8e80</td><td style=\"text-align: right;\">   </td><td style=\"text-align: right;\">                </td><td style=\"text-align: right;\">                     5</td><td>    </td><td style=\"text-align: right;\">     1</td><td style=\"text-align: right;\">        1.88425 </td><td style=\"text-align: right;\">              0.88 </td><td style=\"text-align: right;\">              0.86 </td><td style=\"text-align: right;\">              0.895</td></tr>\n",
       "<tr><td>_Trainable_bf521720</td><td>TERMINATED</td><td>127.0.0.1:47120</td><td>passthrough</td><td>AdaptiveRandomF_5450</td><td style=\"text-align: right;\">   </td><td style=\"text-align: right;\">                </td><td style=\"text-align: right;\">                    10</td><td>    </td><td style=\"text-align: right;\">     1</td><td style=\"text-align: right;\">        3.14355 </td><td style=\"text-align: right;\">              0.895</td><td style=\"text-align: right;\">              0.945</td><td style=\"text-align: right;\">              0.865</td></tr>\n",
       "<tr><td>_Trainable_f8fd55d5</td><td>TERMINATED</td><td>127.0.0.1:47120</td><td>           </td><td>KerasSequential_4550</td><td style=\"text-align: right;\">   </td><td style=\"text-align: right;\">                </td><td style=\"text-align: right;\">                      </td><td>[5] </td><td style=\"text-align: right;\">     1</td><td style=\"text-align: right;\">        2.02143 </td><td style=\"text-align: right;\">              0.335</td><td style=\"text-align: right;\">              0.485</td><td style=\"text-align: right;\">              0.545</td></tr>\n",
       "<tr><td>_Trainable_f21c3023</td><td>TERMINATED</td><td>127.0.0.1:47120</td><td>           </td><td>KerasSequential_4100</td><td style=\"text-align: right;\">   </td><td style=\"text-align: right;\">                </td><td style=\"text-align: right;\">                      </td><td>[10]</td><td style=\"text-align: right;\">     1</td><td style=\"text-align: right;\">        1.79406 </td><td style=\"text-align: right;\">              0.45 </td><td style=\"text-align: right;\">              0.685</td><td style=\"text-align: right;\">              0.605</td></tr>\n",
       "</tbody>\n",
       "</table>\n",
       "  </div>\n",
       "</div>\n",
       "<style>\n",
       ".tuneStatus {\n",
       "  color: var(--jp-ui-font-color1);\n",
       "}\n",
       ".tuneStatus .systemInfo {\n",
       "  display: flex;\n",
       "  flex-direction: column;\n",
       "}\n",
       ".tuneStatus td {\n",
       "  white-space: nowrap;\n",
       "}\n",
       ".tuneStatus .trialStatus {\n",
       "  display: flex;\n",
       "  flex-direction: column;\n",
       "}\n",
       ".tuneStatus h3 {\n",
       "  font-weight: bold;\n",
       "}\n",
       ".tuneStatus .hDivider {\n",
       "  border-bottom-width: var(--jp-border-width);\n",
       "  border-bottom-color: var(--jp-border-color0);\n",
       "  border-bottom-style: solid;\n",
       "}\n",
       ".tuneStatus .vDivider {\n",
       "  border-left-width: var(--jp-border-width);\n",
       "  border-left-color: var(--jp-border-color0);\n",
       "  border-left-style: solid;\n",
       "  margin: 0.5em 1em 0.5em 1em;\n",
       "}\n",
       "</style>\n"
      ],
      "text/plain": [
       "<IPython.core.display.HTML object>"
      ]
     },
     "metadata": {},
     "output_type": "display_data"
    },
    {
     "name": "stderr",
     "output_type": "stream",
     "text": [
      "WARNING:absl:Found untraced functions such as _update_step_xla while saving (showing 1 of 1). These functions will not be directly callable after loading.\n"
     ]
    },
    {
     "name": "stdout",
     "output_type": "stream",
     "text": [
      "INFO:tensorflow:Assets written to: ram://e04ea498580e46688ed640e96f20be45/assets\n"
     ]
    },
    {
     "name": "stderr",
     "output_type": "stream",
     "text": [
      "INFO:tensorflow:Assets written to: ram://e04ea498580e46688ed640e96f20be45/assets\n",
      "WARNING:absl:Found untraced functions such as _update_step_xla while saving (showing 1 of 1). These functions will not be directly callable after loading.\n"
     ]
    },
    {
     "name": "stdout",
     "output_type": "stream",
     "text": [
      "INFO:tensorflow:Assets written to: ram://f9ac0acfed7a48d19ae161328f112514/assets\n"
     ]
    },
    {
     "name": "stderr",
     "output_type": "stream",
     "text": [
      "INFO:tensorflow:Assets written to: ram://f9ac0acfed7a48d19ae161328f112514/assets\n",
      "2023-10-08 22:40:42.577625: W tensorflow/core/util/tensor_slice_reader.cc:96] Could not open ram://1e171bb4fbe14b7db17461afa934e0d6: INVALID_ARGUMENT: ram://1e171bb4fbe14b7db17461afa934e0d6 is a directory.\n",
      "WARNING:absl:Found untraced functions such as _update_step_xla while saving (showing 1 of 1). These functions will not be directly callable after loading.\n"
     ]
    },
    {
     "name": "stdout",
     "output_type": "stream",
     "text": [
      "INFO:tensorflow:Assets written to: ram://9cbe6f15b78e47b4afd29dc67309f4cc/assets\n"
     ]
    },
    {
     "name": "stderr",
     "output_type": "stream",
     "text": [
      "INFO:tensorflow:Assets written to: ram://9cbe6f15b78e47b4afd29dc67309f4cc/assets\n",
      "2023-10-08 22:40:43.079824: W tensorflow/core/util/tensor_slice_reader.cc:96] Could not open ram://933b4bb267b3475287a970b6b8a2367e: INVALID_ARGUMENT: ram://933b4bb267b3475287a970b6b8a2367e is a directory.\n",
      "WARNING:absl:Found untraced functions such as _update_step_xla while saving (showing 1 of 1). These functions will not be directly callable after loading.\n"
     ]
    },
    {
     "name": "stdout",
     "output_type": "stream",
     "text": [
      "INFO:tensorflow:Assets written to: ram://bceb8fad446c4e03b5242c5308f79ded/assets\n"
     ]
    },
    {
     "name": "stderr",
     "output_type": "stream",
     "text": [
      "INFO:tensorflow:Assets written to: ram://bceb8fad446c4e03b5242c5308f79ded/assets\n",
      "2023-10-08 22:40:43.762393: W tensorflow/core/util/tensor_slice_reader.cc:96] Could not open ram://860438c2ed234bcfb7e6ad98fb69e87c: INVALID_ARGUMENT: ram://860438c2ed234bcfb7e6ad98fb69e87c is a directory.\n",
      "WARNING:absl:Found untraced functions such as _update_step_xla while saving (showing 1 of 1). These functions will not be directly callable after loading.\n"
     ]
    },
    {
     "name": "stdout",
     "output_type": "stream",
     "text": [
      "INFO:tensorflow:Assets written to: ram://32c2f1dabebe43a59a0fac91f654c9f8/assets\n"
     ]
    },
    {
     "name": "stderr",
     "output_type": "stream",
     "text": [
      "INFO:tensorflow:Assets written to: ram://32c2f1dabebe43a59a0fac91f654c9f8/assets\n"
     ]
    },
    {
     "name": "stdout",
     "output_type": "stream",
     "text": [
      "WARNING:tensorflow:Detecting that an object or model or tf.train.Checkpoint is being deleted with unrestored values. See the following logs for the specific values in question. To silence these warnings, use `status.expect_partial()`. See https://www.tensorflow.org/api_docs/python/tf/train/Checkpoint#restorefor details about the status object returned by the restore function.\n"
     ]
    },
    {
     "name": "stderr",
     "output_type": "stream",
     "text": [
      "WARNING:tensorflow:Detecting that an object or model or tf.train.Checkpoint is being deleted with unrestored values. See the following logs for the specific values in question. To silence these warnings, use `status.expect_partial()`. See https://www.tensorflow.org/api_docs/python/tf/train/Checkpoint#restorefor details about the status object returned by the restore function.\n"
     ]
    },
    {
     "name": "stdout",
     "output_type": "stream",
     "text": [
      "WARNING:tensorflow:Value in checkpoint could not be found in the restored object: (root).keras_api.metrics.0.total\n"
     ]
    },
    {
     "name": "stderr",
     "output_type": "stream",
     "text": [
      "WARNING:tensorflow:Value in checkpoint could not be found in the restored object: (root).keras_api.metrics.0.total\n"
     ]
    },
    {
     "name": "stdout",
     "output_type": "stream",
     "text": [
      "WARNING:tensorflow:Value in checkpoint could not be found in the restored object: (root).keras_api.metrics.0.count\n"
     ]
    },
    {
     "name": "stderr",
     "output_type": "stream",
     "text": [
      "WARNING:tensorflow:Value in checkpoint could not be found in the restored object: (root).keras_api.metrics.0.count\n"
     ]
    },
    {
     "name": "stdout",
     "output_type": "stream",
     "text": [
      "WARNING:tensorflow:Value in checkpoint could not be found in the restored object: (root).keras_api.metrics.1.total\n"
     ]
    },
    {
     "name": "stderr",
     "output_type": "stream",
     "text": [
      "WARNING:tensorflow:Value in checkpoint could not be found in the restored object: (root).keras_api.metrics.1.total\n"
     ]
    },
    {
     "name": "stdout",
     "output_type": "stream",
     "text": [
      "WARNING:tensorflow:Value in checkpoint could not be found in the restored object: (root).keras_api.metrics.1.count\n"
     ]
    },
    {
     "name": "stderr",
     "output_type": "stream",
     "text": [
      "WARNING:tensorflow:Value in checkpoint could not be found in the restored object: (root).keras_api.metrics.1.count\n",
      "WARNING:absl:Found untraced functions such as _update_step_xla while saving (showing 1 of 1). These functions will not be directly callable after loading.\n"
     ]
    },
    {
     "name": "stdout",
     "output_type": "stream",
     "text": [
      "INFO:tensorflow:Assets written to: ram://d10cc802a132487dbf84dada637942fd/assets\n"
     ]
    },
    {
     "name": "stderr",
     "output_type": "stream",
     "text": [
      "INFO:tensorflow:Assets written to: ram://d10cc802a132487dbf84dada637942fd/assets\n",
      "2023-10-08 22:40:45.664026: W tensorflow/core/util/tensor_slice_reader.cc:96] Could not open ram://18419d5dde714f0c805a22814b9cf97a: INVALID_ARGUMENT: ram://18419d5dde714f0c805a22814b9cf97a is a directory.\n",
      "WARNING:absl:Found untraced functions such as _update_step_xla while saving (showing 1 of 1). These functions will not be directly callable after loading.\n"
     ]
    },
    {
     "name": "stdout",
     "output_type": "stream",
     "text": [
      "INFO:tensorflow:Assets written to: ram://a2ac76d6c4a74702b964b1c5da60b0c5/assets\n"
     ]
    },
    {
     "name": "stderr",
     "output_type": "stream",
     "text": [
      "INFO:tensorflow:Assets written to: ram://a2ac76d6c4a74702b964b1c5da60b0c5/assets\n"
     ]
    },
    {
     "name": "stdout",
     "output_type": "stream",
     "text": [
      "WARNING:tensorflow:Detecting that an object or model or tf.train.Checkpoint is being deleted with unrestored values. See the following logs for the specific values in question. To silence these warnings, use `status.expect_partial()`. See https://www.tensorflow.org/api_docs/python/tf/train/Checkpoint#restorefor details about the status object returned by the restore function.\n"
     ]
    },
    {
     "name": "stderr",
     "output_type": "stream",
     "text": [
      "WARNING:tensorflow:Detecting that an object or model or tf.train.Checkpoint is being deleted with unrestored values. See the following logs for the specific values in question. To silence these warnings, use `status.expect_partial()`. See https://www.tensorflow.org/api_docs/python/tf/train/Checkpoint#restorefor details about the status object returned by the restore function.\n"
     ]
    },
    {
     "name": "stdout",
     "output_type": "stream",
     "text": [
      "WARNING:tensorflow:Value in checkpoint could not be found in the restored object: (root).keras_api.metrics.0.total\n"
     ]
    },
    {
     "name": "stderr",
     "output_type": "stream",
     "text": [
      "WARNING:tensorflow:Value in checkpoint could not be found in the restored object: (root).keras_api.metrics.0.total\n"
     ]
    },
    {
     "name": "stdout",
     "output_type": "stream",
     "text": [
      "WARNING:tensorflow:Value in checkpoint could not be found in the restored object: (root).keras_api.metrics.0.count\n"
     ]
    },
    {
     "name": "stderr",
     "output_type": "stream",
     "text": [
      "WARNING:tensorflow:Value in checkpoint could not be found in the restored object: (root).keras_api.metrics.0.count\n"
     ]
    },
    {
     "name": "stdout",
     "output_type": "stream",
     "text": [
      "WARNING:tensorflow:Value in checkpoint could not be found in the restored object: (root).keras_api.metrics.1.total\n"
     ]
    },
    {
     "name": "stderr",
     "output_type": "stream",
     "text": [
      "WARNING:tensorflow:Value in checkpoint could not be found in the restored object: (root).keras_api.metrics.1.total\n"
     ]
    },
    {
     "name": "stdout",
     "output_type": "stream",
     "text": [
      "WARNING:tensorflow:Value in checkpoint could not be found in the restored object: (root).keras_api.metrics.1.count\n"
     ]
    },
    {
     "name": "stderr",
     "output_type": "stream",
     "text": [
      "WARNING:tensorflow:Value in checkpoint could not be found in the restored object: (root).keras_api.metrics.1.count\n",
      "WARNING:absl:Found untraced functions such as _update_step_xla while saving (showing 1 of 1). These functions will not be directly callable after loading.\n"
     ]
    },
    {
     "name": "stdout",
     "output_type": "stream",
     "text": [
      "INFO:tensorflow:Assets written to: ram://7af6b67ffa2049d2a0a1b79dc1967dd3/assets\n"
     ]
    },
    {
     "name": "stderr",
     "output_type": "stream",
     "text": [
      "INFO:tensorflow:Assets written to: ram://7af6b67ffa2049d2a0a1b79dc1967dd3/assets\n",
      "\u001b[2m\u001b[36m(_Trainable pid=47138)\u001b[0m 2023-10-08 22:40:48.052937: W tensorflow/core/util/tensor_slice_reader.cc:96] Could not open ram://45b64747ffd94728bb95a62446829dd7: INVALID_ARGUMENT: ram://45b64747ffd94728bb95a62446829dd7 is a directory.\n",
      "WARNING:absl:Found untraced functions such as _update_step_xla while saving (showing 1 of 1). These functions will not be directly callable after loading.\n"
     ]
    },
    {
     "name": "stdout",
     "output_type": "stream",
     "text": [
      "INFO:tensorflow:Assets written to: ram://66143c7abcfc4f5fb7d9c534bd8e1eb2/assets\n"
     ]
    },
    {
     "name": "stderr",
     "output_type": "stream",
     "text": [
      "INFO:tensorflow:Assets written to: ram://66143c7abcfc4f5fb7d9c534bd8e1eb2/assets\n",
      "\u001b[2m\u001b[36m(_Trainable pid=47138)\u001b[0m WARNING:absl:Found untraced functions such as _update_step_xla while saving (showing 1 of 1). These functions will not be directly callable after loading.\n",
      "WARNING:absl:Found untraced functions such as _update_step_xla while saving (showing 1 of 1). These functions will not be directly callable after loading.\n"
     ]
    },
    {
     "name": "stdout",
     "output_type": "stream",
     "text": [
      "INFO:tensorflow:Assets written to: ram://7763cd0905cb4170a2e1cf956435d465/assets\n"
     ]
    },
    {
     "name": "stderr",
     "output_type": "stream",
     "text": [
      "INFO:tensorflow:Assets written to: ram://7763cd0905cb4170a2e1cf956435d465/assets\n",
      "WARNING:absl:Found untraced functions such as _update_step_xla while saving (showing 1 of 1). These functions will not be directly callable after loading.\n"
     ]
    },
    {
     "name": "stdout",
     "output_type": "stream",
     "text": [
      "INFO:tensorflow:Assets written to: ram://abfe9ba0b9444af481bf7f3cc808f47b/assets\n"
     ]
    },
    {
     "name": "stderr",
     "output_type": "stream",
     "text": [
      "INFO:tensorflow:Assets written to: ram://abfe9ba0b9444af481bf7f3cc808f47b/assets\n",
      "WARNING:absl:Found untraced functions such as _update_step_xla while saving (showing 1 of 1). These functions will not be directly callable after loading.\n"
     ]
    },
    {
     "name": "stdout",
     "output_type": "stream",
     "text": [
      "INFO:tensorflow:Assets written to: ram://dc22da8cb0da4a78aea6b29b91e47d3b/assets\n"
     ]
    },
    {
     "name": "stderr",
     "output_type": "stream",
     "text": [
      "INFO:tensorflow:Assets written to: ram://dc22da8cb0da4a78aea6b29b91e47d3b/assets\n",
      "WARNING:absl:Found untraced functions such as _update_step_xla while saving (showing 1 of 1). These functions will not be directly callable after loading.\n",
      "\u001b[2m\u001b[36m(_Trainable pid=47120)\u001b[0m 2023-10-08 22:40:49.636838: W tensorflow/tsl/platform/profile_utils/cpu_utils.cc:128] Failed to get CPU frequency: 0 Hz\n"
     ]
    },
    {
     "name": "stdout",
     "output_type": "stream",
     "text": [
      "INFO:tensorflow:Assets written to: ram://8011f462cd724952bcedfa57f4472126/assets\n"
     ]
    },
    {
     "name": "stderr",
     "output_type": "stream",
     "text": [
      "INFO:tensorflow:Assets written to: ram://8011f462cd724952bcedfa57f4472126/assets\n",
      "2023-10-08 22:40:50.168234: W tensorflow/core/util/tensor_slice_reader.cc:96] Could not open ram://e1aab8a411e74463b18e9fbd2d5eac52: INVALID_ARGUMENT: ram://e1aab8a411e74463b18e9fbd2d5eac52 is a directory.\n",
      "WARNING:absl:Found untraced functions such as _update_step_xla while saving (showing 1 of 1). These functions will not be directly callable after loading.\n"
     ]
    },
    {
     "name": "stdout",
     "output_type": "stream",
     "text": [
      "INFO:tensorflow:Assets written to: ram://b94fa4af0fb14fb9b0d9c069f8448f03/assets\n"
     ]
    },
    {
     "name": "stderr",
     "output_type": "stream",
     "text": [
      "INFO:tensorflow:Assets written to: ram://b94fa4af0fb14fb9b0d9c069f8448f03/assets\n",
      "2023-10-08 22:40:50.876153: W tensorflow/core/util/tensor_slice_reader.cc:96] Could not open ram://f30e29bb055943b0a218a9c2bff3292e: INVALID_ARGUMENT: ram://f30e29bb055943b0a218a9c2bff3292e is a directory.\n",
      "WARNING:absl:Found untraced functions such as _update_step_xla while saving (showing 1 of 1). These functions will not be directly callable after loading.\n"
     ]
    },
    {
     "name": "stdout",
     "output_type": "stream",
     "text": [
      "INFO:tensorflow:Assets written to: ram://eda384237b514c1dbae76deb716cdd1d/assets\n"
     ]
    },
    {
     "name": "stderr",
     "output_type": "stream",
     "text": [
      "INFO:tensorflow:Assets written to: ram://eda384237b514c1dbae76deb716cdd1d/assets\n",
      "2023-10-08 22:40:51.422539: W tensorflow/core/util/tensor_slice_reader.cc:96] Could not open ram://6de8660d0a7a49c2a245ba22584f6950: INVALID_ARGUMENT: ram://6de8660d0a7a49c2a245ba22584f6950 is a directory.\n",
      "WARNING:absl:Found untraced functions such as _update_step_xla while saving (showing 1 of 1). These functions will not be directly callable after loading.\n"
     ]
    },
    {
     "name": "stdout",
     "output_type": "stream",
     "text": [
      "INFO:tensorflow:Assets written to: ram://091a6c54d73e437e969e4d19e7349779/assets\n"
     ]
    },
    {
     "name": "stderr",
     "output_type": "stream",
     "text": [
      "INFO:tensorflow:Assets written to: ram://091a6c54d73e437e969e4d19e7349779/assets\n"
     ]
    },
    {
     "name": "stdout",
     "output_type": "stream",
     "text": [
      "WARNING:tensorflow:Detecting that an object or model or tf.train.Checkpoint is being deleted with unrestored values. See the following logs for the specific values in question. To silence these warnings, use `status.expect_partial()`. See https://www.tensorflow.org/api_docs/python/tf/train/Checkpoint#restorefor details about the status object returned by the restore function.\n"
     ]
    },
    {
     "name": "stderr",
     "output_type": "stream",
     "text": [
      "WARNING:tensorflow:Detecting that an object or model or tf.train.Checkpoint is being deleted with unrestored values. See the following logs for the specific values in question. To silence these warnings, use `status.expect_partial()`. See https://www.tensorflow.org/api_docs/python/tf/train/Checkpoint#restorefor details about the status object returned by the restore function.\n"
     ]
    },
    {
     "name": "stdout",
     "output_type": "stream",
     "text": [
      "WARNING:tensorflow:Value in checkpoint could not be found in the restored object: (root).keras_api.metrics.0.total\n"
     ]
    },
    {
     "name": "stderr",
     "output_type": "stream",
     "text": [
      "WARNING:tensorflow:Value in checkpoint could not be found in the restored object: (root).keras_api.metrics.0.total\n"
     ]
    },
    {
     "name": "stdout",
     "output_type": "stream",
     "text": [
      "WARNING:tensorflow:Value in checkpoint could not be found in the restored object: (root).keras_api.metrics.0.count\n"
     ]
    },
    {
     "name": "stderr",
     "output_type": "stream",
     "text": [
      "WARNING:tensorflow:Value in checkpoint could not be found in the restored object: (root).keras_api.metrics.0.count\n"
     ]
    },
    {
     "name": "stdout",
     "output_type": "stream",
     "text": [
      "WARNING:tensorflow:Value in checkpoint could not be found in the restored object: (root).keras_api.metrics.1.total\n"
     ]
    },
    {
     "name": "stderr",
     "output_type": "stream",
     "text": [
      "WARNING:tensorflow:Value in checkpoint could not be found in the restored object: (root).keras_api.metrics.1.total\n"
     ]
    },
    {
     "name": "stdout",
     "output_type": "stream",
     "text": [
      "WARNING:tensorflow:Value in checkpoint could not be found in the restored object: (root).keras_api.metrics.1.count\n"
     ]
    },
    {
     "name": "stderr",
     "output_type": "stream",
     "text": [
      "WARNING:tensorflow:Value in checkpoint could not be found in the restored object: (root).keras_api.metrics.1.count\n",
      "2023-10-08 22:40:52.294659: W tensorflow/core/util/tensor_slice_reader.cc:96] Could not open ram://6552e34468414b55b537be2dd9ded157: INVALID_ARGUMENT: ram://6552e34468414b55b537be2dd9ded157 is a directory.\n",
      "WARNING:absl:Found untraced functions such as _update_step_xla while saving (showing 1 of 1). These functions will not be directly callable after loading.\n"
     ]
    },
    {
     "name": "stdout",
     "output_type": "stream",
     "text": [
      "INFO:tensorflow:Assets written to: ram://994e22ef8fad45b8aae19fe5c1cbc2f4/assets\n"
     ]
    },
    {
     "name": "stderr",
     "output_type": "stream",
     "text": [
      "INFO:tensorflow:Assets written to: ram://994e22ef8fad45b8aae19fe5c1cbc2f4/assets\n",
      "2023-10-08 22:40:52.824933: W tensorflow/core/util/tensor_slice_reader.cc:96] Could not open ram://01704a8c5f5a41a3928cf575adfdffaa: INVALID_ARGUMENT: ram://01704a8c5f5a41a3928cf575adfdffaa is a directory.\n",
      "WARNING:absl:Found untraced functions such as _update_step_xla while saving (showing 1 of 1). These functions will not be directly callable after loading.\n"
     ]
    },
    {
     "name": "stdout",
     "output_type": "stream",
     "text": [
      "INFO:tensorflow:Assets written to: ram://17e2d1f352944f74a3efcb0781ec8012/assets\n"
     ]
    },
    {
     "name": "stderr",
     "output_type": "stream",
     "text": [
      "INFO:tensorflow:Assets written to: ram://17e2d1f352944f74a3efcb0781ec8012/assets\n",
      "\u001b[2m\u001b[36m(_Trainable pid=47120)\u001b[0m 2023-10-08 22:40:53.477965: W tensorflow/core/util/tensor_slice_reader.cc:96] Could not open ram://b207704f52144ad883468378f28ba9b0: INVALID_ARGUMENT: ram://b207704f52144ad883468378f28ba9b0 is a directory.\u001b[32m [repeated 3x across cluster] (Ray deduplicates logs by default. Set RAY_DEDUP_LOGS=0 to disable log deduplication, or see https://docs.ray.io/en/master/ray-observability/ray-logging.html#log-deduplication for more options.)\u001b[0m\n",
      "\u001b[2m\u001b[36m(_Trainable pid=47120)\u001b[0m WARNING:absl:Found untraced functions such as _update_step_xla while saving (showing 1 of 1). These functions will not be directly callable after loading.\u001b[32m [repeated 3x across cluster]\u001b[0m\n",
      "WARNING:absl:Found untraced functions such as _update_step_xla while saving (showing 1 of 1). These functions will not be directly callable after loading.\n"
     ]
    },
    {
     "name": "stdout",
     "output_type": "stream",
     "text": [
      "INFO:tensorflow:Assets written to: ram://d5f1080438834c26b1f5b4facf343939/assets\n"
     ]
    },
    {
     "name": "stderr",
     "output_type": "stream",
     "text": [
      "INFO:tensorflow:Assets written to: ram://d5f1080438834c26b1f5b4facf343939/assets\n",
      "2023-10-08 22:40:54.407817: W tensorflow/core/util/tensor_slice_reader.cc:96] Could not open ram://c56c283858164b459c3cd04ebf8909e3: INVALID_ARGUMENT: ram://c56c283858164b459c3cd04ebf8909e3 is a directory.\n",
      "\u001b[2m\u001b[36m(_Trainable pid=47120)\u001b[0m WARNING:tensorflow:Detecting that an object or model or tf.train.Checkpoint is being deleted with unrestored values. See the following logs for the specific values in question. To silence these warnings, use `status.expect_partial()`. See https://www.tensorflow.org/api_docs/python/tf/train/Checkpoint#restorefor details about the status object returned by the restore function.\n",
      "\u001b[2m\u001b[36m(_Trainable pid=47120)\u001b[0m WARNING:tensorflow:Detecting that an object or model or tf.train.Checkpoint is being deleted with unrestored values. See the following logs for the specific values in question. To silence these warnings, use `status.expect_partial()`. See https://www.tensorflow.org/api_docs/python/tf/train/Checkpoint#restorefor details about the status object returned by the restore function.\n",
      "\u001b[2m\u001b[36m(_Trainable pid=47120)\u001b[0m WARNING:tensorflow:Value in checkpoint could not be found in the restored object: (root).keras_api.metrics.0.total\n",
      "\u001b[2m\u001b[36m(_Trainable pid=47120)\u001b[0m WARNING:tensorflow:Value in checkpoint could not be found in the restored object: (root).keras_api.metrics.0.total\n",
      "\u001b[2m\u001b[36m(_Trainable pid=47120)\u001b[0m WARNING:tensorflow:Value in checkpoint could not be found in the restored object: (root).keras_api.metrics.0.count\n",
      "\u001b[2m\u001b[36m(_Trainable pid=47120)\u001b[0m WARNING:tensorflow:Value in checkpoint could not be found in the restored object: (root).keras_api.metrics.0.count\n",
      "\u001b[2m\u001b[36m(_Trainable pid=47120)\u001b[0m WARNING:tensorflow:Value in checkpoint could not be found in the restored object: (root).keras_api.metrics.1.total\n",
      "\u001b[2m\u001b[36m(_Trainable pid=47120)\u001b[0m WARNING:tensorflow:Value in checkpoint could not be found in the restored object: (root).keras_api.metrics.1.total\n",
      "\u001b[2m\u001b[36m(_Trainable pid=47120)\u001b[0m WARNING:tensorflow:Value in checkpoint could not be found in the restored object: (root).keras_api.metrics.1.count\n",
      "\u001b[2m\u001b[36m(_Trainable pid=47120)\u001b[0m WARNING:tensorflow:Value in checkpoint could not be found in the restored object: (root).keras_api.metrics.1.count\n"
     ]
    },
    {
     "name": "stdout",
     "output_type": "stream",
     "text": [
      "WARNING:tensorflow:Detecting that an object or model or tf.train.Checkpoint is being deleted with unrestored values. See the following logs for the specific values in question. To silence these warnings, use `status.expect_partial()`. See https://www.tensorflow.org/api_docs/python/tf/train/Checkpoint#restorefor details about the status object returned by the restore function.\n"
     ]
    },
    {
     "name": "stderr",
     "output_type": "stream",
     "text": [
      "WARNING:tensorflow:Detecting that an object or model or tf.train.Checkpoint is being deleted with unrestored values. See the following logs for the specific values in question. To silence these warnings, use `status.expect_partial()`. See https://www.tensorflow.org/api_docs/python/tf/train/Checkpoint#restorefor details about the status object returned by the restore function.\n"
     ]
    },
    {
     "name": "stdout",
     "output_type": "stream",
     "text": [
      "WARNING:tensorflow:Value in checkpoint could not be found in the restored object: (root).keras_api.metrics.0.total\n"
     ]
    },
    {
     "name": "stderr",
     "output_type": "stream",
     "text": [
      "WARNING:tensorflow:Value in checkpoint could not be found in the restored object: (root).keras_api.metrics.0.total\n"
     ]
    },
    {
     "name": "stdout",
     "output_type": "stream",
     "text": [
      "WARNING:tensorflow:Value in checkpoint could not be found in the restored object: (root).keras_api.metrics.0.count\n"
     ]
    },
    {
     "name": "stderr",
     "output_type": "stream",
     "text": [
      "WARNING:tensorflow:Value in checkpoint could not be found in the restored object: (root).keras_api.metrics.0.count\n"
     ]
    },
    {
     "name": "stdout",
     "output_type": "stream",
     "text": [
      "WARNING:tensorflow:Value in checkpoint could not be found in the restored object: (root).keras_api.metrics.1.total\n"
     ]
    },
    {
     "name": "stderr",
     "output_type": "stream",
     "text": [
      "WARNING:tensorflow:Value in checkpoint could not be found in the restored object: (root).keras_api.metrics.1.total\n"
     ]
    },
    {
     "name": "stdout",
     "output_type": "stream",
     "text": [
      "WARNING:tensorflow:Value in checkpoint could not be found in the restored object: (root).keras_api.metrics.1.count\n"
     ]
    },
    {
     "name": "stderr",
     "output_type": "stream",
     "text": [
      "WARNING:tensorflow:Value in checkpoint could not be found in the restored object: (root).keras_api.metrics.1.count\n",
      "2023-10-08 22:40:56.585151: W tensorflow/core/util/tensor_slice_reader.cc:96] Could not open ram://97e9d56f8dee471aba92bd16982f166d: INVALID_ARGUMENT: ram://97e9d56f8dee471aba92bd16982f166d is a directory.\n",
      "WARNING:absl:Found untraced functions such as _update_step_xla while saving (showing 1 of 1). These functions will not be directly callable after loading.\n"
     ]
    },
    {
     "name": "stdout",
     "output_type": "stream",
     "text": [
      "INFO:tensorflow:Assets written to: ram://dc2441634b1a4e97bee197ff6a91d4fd/assets\n"
     ]
    },
    {
     "name": "stderr",
     "output_type": "stream",
     "text": [
      "INFO:tensorflow:Assets written to: ram://dc2441634b1a4e97bee197ff6a91d4fd/assets\n",
      "WARNING:absl:Found untraced functions such as _update_step_xla while saving (showing 1 of 1). These functions will not be directly callable after loading.\n"
     ]
    },
    {
     "name": "stdout",
     "output_type": "stream",
     "text": [
      "INFO:tensorflow:Assets written to: ram://7021d5358b5f46438029955cc514eb8e/assets\n"
     ]
    },
    {
     "name": "stderr",
     "output_type": "stream",
     "text": [
      "INFO:tensorflow:Assets written to: ram://7021d5358b5f46438029955cc514eb8e/assets\n",
      "WARNING:absl:Found untraced functions such as _update_step_xla while saving (showing 1 of 1). These functions will not be directly callable after loading.\n"
     ]
    },
    {
     "name": "stdout",
     "output_type": "stream",
     "text": [
      "INFO:tensorflow:Assets written to: ram://69d29c4dd5854fa29e246851e5bf1af3/assets\n"
     ]
    },
    {
     "name": "stderr",
     "output_type": "stream",
     "text": [
      "INFO:tensorflow:Assets written to: ram://69d29c4dd5854fa29e246851e5bf1af3/assets\n",
      "WARNING:absl:Found untraced functions such as _update_step_xla while saving (showing 1 of 1). These functions will not be directly callable after loading.\n"
     ]
    },
    {
     "name": "stdout",
     "output_type": "stream",
     "text": [
      "INFO:tensorflow:Assets written to: ram://1d0d1456ab2d4b25a262dce5b394c180/assets\n"
     ]
    },
    {
     "name": "stderr",
     "output_type": "stream",
     "text": [
      "INFO:tensorflow:Assets written to: ram://1d0d1456ab2d4b25a262dce5b394c180/assets\n",
      "WARNING:absl:Found untraced functions such as _update_step_xla while saving (showing 1 of 1). These functions will not be directly callable after loading.\n"
     ]
    },
    {
     "name": "stdout",
     "output_type": "stream",
     "text": [
      "INFO:tensorflow:Assets written to: ram://18902f94e4a54e8c81a2628a72be247d/assets\n"
     ]
    },
    {
     "name": "stderr",
     "output_type": "stream",
     "text": [
      "INFO:tensorflow:Assets written to: ram://18902f94e4a54e8c81a2628a72be247d/assets\n",
      "WARNING:absl:Found untraced functions such as _update_step_xla while saving (showing 1 of 1). These functions will not be directly callable after loading.\n"
     ]
    },
    {
     "name": "stdout",
     "output_type": "stream",
     "text": [
      "INFO:tensorflow:Assets written to: ram://f9543430d21947babfb0a210720f5e9f/assets\n"
     ]
    },
    {
     "name": "stderr",
     "output_type": "stream",
     "text": [
      "INFO:tensorflow:Assets written to: ram://f9543430d21947babfb0a210720f5e9f/assets\n",
      "WARNING:absl:Found untraced functions such as _update_step_xla while saving (showing 1 of 1). These functions will not be directly callable after loading.\n"
     ]
    },
    {
     "name": "stdout",
     "output_type": "stream",
     "text": [
      "INFO:tensorflow:Assets written to: ram://70f5be96ca3247f0a3694935a8fe709f/assets\n"
     ]
    },
    {
     "name": "stderr",
     "output_type": "stream",
     "text": [
      "INFO:tensorflow:Assets written to: ram://70f5be96ca3247f0a3694935a8fe709f/assets\n",
      "WARNING:absl:Found untraced functions such as _update_step_xla while saving (showing 1 of 1). These functions will not be directly callable after loading.\n"
     ]
    },
    {
     "name": "stdout",
     "output_type": "stream",
     "text": [
      "INFO:tensorflow:Assets written to: ram://7c7fff0f15204556afbf22d02f66285b/assets\n"
     ]
    },
    {
     "name": "stderr",
     "output_type": "stream",
     "text": [
      "INFO:tensorflow:Assets written to: ram://7c7fff0f15204556afbf22d02f66285b/assets\n",
      "INFO:ray.tune.tune:Total run time: 22.62 seconds (19.66 seconds for the tuning loop).\n",
      "\u001b[2m\u001b[36m(_Trainable pid=47153)\u001b[0m 2023-10-08 22:40:56.448257: W tensorflow/core/util/tensor_slice_reader.cc:96] Could not open ram://08582abdc57241d7bed5bd8686ac1728: INVALID_ARGUMENT: ram://08582abdc57241d7bed5bd8686ac1728 is a directory.\u001b[32m [repeated 2x across cluster]\u001b[0m\n",
      "\u001b[2m\u001b[36m(_Trainable pid=47153)\u001b[0m WARNING:absl:Found untraced functions such as _update_step_xla while saving (showing 1 of 1). These functions will not be directly callable after loading.\u001b[32m [repeated 3x across cluster]\u001b[0m\n",
      "[2023-10-08 22:41:01:760] - INFO - SAIL (PipelineStrategy) - Pipeline tuning completed. Disconnecting Ray cluster...\n",
      "[2023-10-08 22:41:01:761] - INFO - SAIL (PipelineStrategy) - Found best params: {'Imputer': 'passthrough', 'classifier': AdaptiveRandomForestClassifier(drift_detector=ADWIN (\n",
      "      delta=0.001\n",
      "      clock=32\n",
      "      max_buckets=5\n",
      "      min_window_length=5\n",
      "      grace_period=10\n",
      "    ),\n",
      "                                   metric=Accuracy: 0.00%,\n",
      "                                   warning_detector=ADWIN (\n",
      "      delta=0.01\n",
      "      clock=32\n",
      "      max_buckets=5\n",
      "      min_window_length=5\n",
      "      grace_period=10\n",
      "    )), 'classifier__n_models': 10}\n",
      "\n",
      "    \n",
      ">> Epoch: 21 | Samples Seen: 1000 -------------------------------------------------------------------------------------\n",
      "SAIL Pipeline Progressive Score: 100%========== [Points: 50/50, Elapsed:0.0027s, Metric=Accuracy, Batch Size=50, P_Score=0.92]\n",
      "SAIL Drift detection: 100%========== [Points: 50/50, Elapsed:0.0018s, Detector=EDDM, Batch Size=50, Param=differene, Drift=No]\n",
      "SAIL Pipeline Partial fit: 100%========== [Steps: 2/2, ETA: 00:00<00:00, Elapsed:0.056s, Batch Size=50, P_Score=0.92]             \n",
      "\n",
      "    \n",
      ">> Epoch: 22 | Samples Seen: 1050 -------------------------------------------------------------------------------------\n",
      "SAIL Pipeline Progressive Score: 100%========== [Points: 50/50, Elapsed:0.0013s, Metric=Accuracy, Batch Size=50, P_Score=0.95]\n",
      "SAIL Drift detection: 100%========== [Points: 50/50, Elapsed:0.0016s, Detector=EDDM, Batch Size=50, Param=differene, Drift=No]\n",
      "SAIL Pipeline Partial fit: 100%========== [Steps: 2/2, ETA: 00:00<00:00, Elapsed:0.061s, Batch Size=50, P_Score=0.95]             \n",
      "\n",
      "    \n",
      ">> Epoch: 23 | Samples Seen: 1100 -------------------------------------------------------------------------------------\n",
      "SAIL Pipeline Progressive Score: 100%========== [Points: 50/50, Elapsed:0.0017s, Metric=Accuracy, Batch Size=50, P_Score=0.927]\n",
      "SAIL Drift detection: 100%========== [Points: 50/50, Elapsed:0.0010s, Detector=EDDM, Batch Size=50, Param=differene, Drift=No]\n",
      "SAIL Pipeline Partial fit: 100%========== [Steps: 2/2, ETA: 00:00<00:00, Elapsed:0.054s, Batch Size=50, P_Score=0.927]             \n",
      "\n",
      "    \n",
      ">> Epoch: 24 | Samples Seen: 1150 -------------------------------------------------------------------------------------\n",
      "SAIL Pipeline Progressive Score: 100%========== [Points: 50/50, Elapsed:0.0018s, Metric=Accuracy, Batch Size=50, P_Score=0.935]\n",
      "SAIL Drift detection: 100%========== [Points: 50/50, Elapsed:0.0009s, Detector=EDDM, Batch Size=50, Param=differene, Drift=No]\n",
      "SAIL Pipeline Partial fit: 100%========== [Steps: 2/2, ETA: 00:00<00:00, Elapsed:0.060s, Batch Size=50, P_Score=0.935]             \n",
      "\n",
      "    \n",
      ">> Epoch: 25 | Samples Seen: 1200 -------------------------------------------------------------------------------------\n",
      "SAIL Pipeline Progressive Score: 100%========== [Points: 50/50, Elapsed:0.0021s, Metric=Accuracy, Batch Size=50, P_Score=0.924]\n",
      "SAIL Drift detection: 100%========== [Points: 50/50, Elapsed:0.0013s, Detector=EDDM, Batch Size=50, Param=differene, Drift=No]\n",
      "SAIL Pipeline Partial fit: 100%========== [Steps: 2/2, ETA: 00:00<00:00, Elapsed:0.056s, Batch Size=50, P_Score=0.924]             \n",
      "\n",
      "    \n",
      ">> Epoch: 26 | Samples Seen: 1250 -------------------------------------------------------------------------------------\n",
      "SAIL Pipeline Progressive Score: 100%========== [Points: 50/50, Elapsed:0.0024s, Metric=Accuracy, Batch Size=50, P_Score=0.923]\n",
      "SAIL Drift detection: 100%========== [Points: 50/50, Elapsed:0.0015s, Detector=EDDM, Batch Size=50, Param=differene, Drift=No]\n",
      "SAIL Pipeline Partial fit: 100%========== [Steps: 2/2, ETA: 00:00<00:00, Elapsed:0.056s, Batch Size=50, P_Score=0.923]             \n",
      "\n",
      "    \n",
      ">> Epoch: 27 | Samples Seen: 1300 -------------------------------------------------------------------------------------\n",
      "SAIL Pipeline Progressive Score: 100%========== [Points: 50/50, Elapsed:0.0016s, Metric=Accuracy, Batch Size=50, P_Score=0.931]\n",
      "SAIL Drift detection: 100%========== [Points: 50/50, Elapsed:0.0012s, Detector=EDDM, Batch Size=50, Param=differene, Drift=No]\n",
      "SAIL Pipeline Partial fit: 100%========== [Steps: 2/2, ETA: 00:00<00:00, Elapsed:0.055s, Batch Size=50, P_Score=0.931]             \n",
      "\n",
      "    \n",
      ">> Epoch: 28 | Samples Seen: 1350 -------------------------------------------------------------------------------------\n",
      "SAIL Pipeline Progressive Score: 100%========== [Points: 50/50, Elapsed:0.0017s, Metric=Accuracy, Batch Size=50, P_Score=0.932]\n",
      "SAIL Drift detection: 100%========== [Points: 50/50, Elapsed:0.0012s, Detector=EDDM, Batch Size=50, Param=differene, Drift=No]\n",
      "SAIL Pipeline Partial fit: 100%========== [Steps: 2/2, ETA: 00:00<00:00, Elapsed:0.053s, Batch Size=50, P_Score=0.932]             \n",
      "\n",
      "    \n",
      ">> Epoch: 29 | Samples Seen: 1400 -------------------------------------------------------------------------------------\n",
      "SAIL Pipeline Progressive Score: 100%========== [Points: 50/50, Elapsed:0.0016s, Metric=Accuracy, Batch Size=50, P_Score=0.929]\n",
      "SAIL Drift detection: 100%========== [Points: 50/50, Elapsed:0.0011s, Detector=EDDM, Batch Size=50, Param=differene, Drift=No]\n",
      "SAIL Pipeline Partial fit: 100%========== [Steps: 2/2, ETA: 00:00<00:00, Elapsed:0.058s, Batch Size=50, P_Score=0.929]             \n",
      "\n",
      "    \n",
      ">> Epoch: 30 | Samples Seen: 1450 -------------------------------------------------------------------------------------\n",
      "SAIL Pipeline Progressive Score: 100%========== [Points: 50/50, Elapsed:0.0071s, Metric=Accuracy, Batch Size=50, P_Score=0.928]\n",
      "SAIL Drift detection: 100%========== [Points: 50/50, Elapsed:0.0010s, Detector=EDDM, Batch Size=50, Param=differene, Drift=No]\n",
      "SAIL Pipeline Partial fit: 100%========== [Steps: 2/2, ETA: 00:00<00:00, Elapsed:0.057s, Batch Size=50, P_Score=0.928]             \n",
      "\n",
      "    \n",
      ">> Epoch: 31 | Samples Seen: 1500 -------------------------------------------------------------------------------------\n",
      "SAIL Pipeline Progressive Score: 100%========== [Points: 50/50, Elapsed:0.0013s, Metric=Accuracy, Batch Size=50, P_Score=0.927]\n",
      "SAIL Drift detection: 100%========== [Points: 50/50, Elapsed:0.0012s, Detector=EDDM, Batch Size=50, Param=differene, Drift=No]\n",
      "SAIL Pipeline Partial fit: 100%========== [Steps: 2/2, ETA: 00:00<00:00, Elapsed:0.060s, Batch Size=50, P_Score=0.927]             \n",
      "\n",
      "    \n",
      ">> Epoch: 32 | Samples Seen: 1550 -------------------------------------------------------------------------------------\n",
      "SAIL Pipeline Progressive Score: 100%========== [Points: 50/50, Elapsed:0.0014s, Metric=Accuracy, Batch Size=50, P_Score=0.93]\n",
      "SAIL Drift detection:   4%           [Points: 2/50, Elapsed:0.0012s, Detector=EDDM, Batch Size=50, Param=differene, Drift=Yes]\n",
      "[2023-10-08 22:41:02:951] - INFO - SAIL (PipelineStrategy) - Drift Detected in the data. Final Estimator will be incrementally trained on the next train()\n",
      "[2023-10-08 22:41:02:951] - WARNING - SAIL (SAILAutoPipeline) - The current best pipeline is STALE. Pipeline becomes stale when data drift occurs. You can call 'train' with fresh data to get the best pipeline.\n",
      "\n",
      "    \n",
      ">> Epoch: 33 | Samples Seen: 1600 -------------------------------------------------------------------------------------\n",
      "SAIL Model Partial fit: 100%========== [ETA: 00:00<00:00, Elapsed:0.069s, Model=AdaptiveRandomForestClassifier, Batch Size=50, P_Score=0.927]\n",
      "\n",
      "    \n",
      ">> Epoch: 34 | Samples Seen: 1650 -------------------------------------------------------------------------------------\n",
      "SAIL Pipeline Progressive Score: 100%========== [Points: 50/50, Elapsed:0.0013s, Metric=Accuracy, Batch Size=50, P_Score=0.932]\n",
      "SAIL Drift detection: 100%========== [Points: 50/50, Elapsed:0.0008s, Detector=EDDM, Batch Size=50, Param=differene, Drift=No]\n",
      "SAIL Pipeline Partial fit: 100%========== [Steps: 2/2, ETA: 00:00<00:00, Elapsed:0.055s, Batch Size=50, P_Score=0.932]             \n",
      "\n",
      "    \n",
      ">> Epoch: 35 | Samples Seen: 1700 -------------------------------------------------------------------------------------\n",
      "SAIL Pipeline Progressive Score: 100%========== [Points: 50/50, Elapsed:0.0016s, Metric=Accuracy, Batch Size=50, P_Score=0.932]\n",
      "SAIL Drift detection: 100%========== [Points: 50/50, Elapsed:0.0010s, Detector=EDDM, Batch Size=50, Param=differene, Drift=No]\n",
      "SAIL Pipeline Partial fit: 100%========== [Steps: 2/2, ETA: 00:00<00:00, Elapsed:0.048s, Batch Size=50, P_Score=0.932]             \n",
      "\n",
      "    \n",
      ">> Epoch: 36 | Samples Seen: 1750 -------------------------------------------------------------------------------------\n",
      "SAIL Pipeline Progressive Score: 100%========== [Points: 50/50, Elapsed:0.0019s, Metric=Accuracy, Batch Size=50, P_Score=0.93]\n",
      "SAIL Drift detection: 100%========== [Points: 50/50, Elapsed:0.0080s, Detector=EDDM, Batch Size=50, Param=differene, Drift=No]\n",
      "SAIL Pipeline Partial fit: 100%========== [Steps: 2/2, ETA: 00:00<00:00, Elapsed:0.060s, Batch Size=50, P_Score=0.93]             \n",
      "\n",
      "    \n",
      ">> Epoch: 37 | Samples Seen: 1800 -------------------------------------------------------------------------------------\n",
      "SAIL Pipeline Progressive Score: 100%========== [Points: 50/50, Elapsed:0.0022s, Metric=Accuracy, Batch Size=50, P_Score=0.931]\n",
      "SAIL Drift detection: 100%========== [Points: 50/50, Elapsed:0.0015s, Detector=EDDM, Batch Size=50, Param=differene, Drift=No]\n",
      "SAIL Pipeline Partial fit: 100%========== [Steps: 2/2, ETA: 00:00<00:00, Elapsed:0.060s, Batch Size=50, P_Score=0.931]             \n",
      "\n",
      "    \n",
      ">> Epoch: 38 | Samples Seen: 1850 -------------------------------------------------------------------------------------\n",
      "SAIL Pipeline Progressive Score: 100%========== [Points: 50/50, Elapsed:0.0018s, Metric=Accuracy, Batch Size=50, P_Score=0.931]\n",
      "SAIL Drift detection: 100%========== [Points: 50/50, Elapsed:0.0015s, Detector=EDDM, Batch Size=50, Param=differene, Drift=No]\n",
      "SAIL Pipeline Partial fit: 100%========== [Steps: 2/2, ETA: 00:00<00:00, Elapsed:0.070s, Batch Size=50, P_Score=0.931]             \n",
      "\n",
      "    \n",
      ">> Epoch: 39 | Samples Seen: 1900 -------------------------------------------------------------------------------------\n",
      "SAIL Pipeline Progressive Score: 100%========== [Points: 50/50, Elapsed:0.0023s, Metric=Accuracy, Batch Size=50, P_Score=0.933]\n",
      "SAIL Drift detection: 100%========== [Points: 50/50, Elapsed:0.0014s, Detector=EDDM, Batch Size=50, Param=differene, Drift=No]\n",
      "SAIL Pipeline Partial fit: 100%========== [Steps: 2/2, ETA: 00:00<00:00, Elapsed:0.070s, Batch Size=50, P_Score=0.933]             \n",
      "\n",
      "    \n",
      ">> Epoch: 40 | Samples Seen: 1950 -------------------------------------------------------------------------------------\n",
      "SAIL Pipeline Progressive Score: 100%========== [Points: 50/50, Elapsed:0.0014s, Metric=Accuracy, Batch Size=50, P_Score=0.934]\n",
      "SAIL Drift detection: 100%========== [Points: 50/50, Elapsed:0.0009s, Detector=EDDM, Batch Size=50, Param=differene, Drift=No]\n",
      "SAIL Pipeline Partial fit: 100%========== [Steps: 2/2, ETA: 00:00<00:00, Elapsed:0.052s, Batch Size=50, P_Score=0.934]             \n"
     ]
    }
   ],
   "source": [
    "y_preds = []\n",
    "y_true = []\n",
    "batch_size = 50\n",
    "\n",
    "#with tracer.trace_as_current_span(span_name=\"Pipeline-Train\"):\n",
    "for start in range(0, 2000, batch_size):\n",
    "\n",
    "    end = start + batch_size\n",
    "\n",
    "    X_train = X.iloc[start:end]\n",
    "    y_train = y.iloc[start:end]\n",
    "\n",
    "    if start == 0:\n",
    "        keras.fit(X_train, y_train)\n",
    "\n",
    "    if end > 1000: # search_data_size is 1000\n",
    "        preds = auto_pipeline.predict(X_train)\n",
    "        if preds is not None:\n",
    "            y_preds.extend(list(preds))\n",
    "            y_true.extend(list(y_train))\n",
    "\n",
    "    auto_pipeline.train(X_train, y_train, classifier__classes=[1, 0])\n"
   ]
  },
  {
   "attachments": {},
   "cell_type": "markdown",
   "metadata": {},
   "source": [
    "#### Save model\n"
   ]
  },
  {
   "cell_type": "code",
   "execution_count": 8,
   "metadata": {},
   "outputs": [
    {
     "data": {
      "text/plain": [
       "'./sail_auto_pipeline'"
      ]
     },
     "execution_count": 8,
     "metadata": {},
     "output_type": "execute_result"
    }
   ],
   "source": [
    "auto_pipeline.save_model(\".\")"
   ]
  },
  {
   "attachments": {},
   "cell_type": "markdown",
   "metadata": {},
   "source": [
    "#### Load model\n"
   ]
  },
  {
   "cell_type": "code",
   "execution_count": 9,
   "metadata": {},
   "outputs": [
    {
     "name": "stderr",
     "output_type": "stream",
     "text": [
      "[2023-09-11 00:12:45:233] - INFO - SAIL (PipelineStrategy) - Pipeline Strategy [DetectAndIncrement] created with actions: ['DATA_COLLECTION', 'FIND_BEST_PIPELINE', 'SCORE_AND_DETECT_DRIFT', 'PARTIAL_FIT_MODEL']\n",
      "SAIL Pipeline Progressive Score: 100%========== [Points: 850/850, Elapsed:0.0021s, Metric=Accuracy, Batch Size=850, P_Score=0.92]\n"
     ]
    }
   ],
   "source": [
    "new_auto_pipeline = SAILAutoPipeline.load_model(\".\")"
   ]
  },
  {
   "attachments": {},
   "cell_type": "markdown",
   "metadata": {},
   "source": [
    "#### Continue training using the load model\n"
   ]
  },
  {
   "cell_type": "code",
   "execution_count": 10,
   "metadata": {},
   "outputs": [
    {
     "name": "stdout",
     "output_type": "stream",
     "text": [
      "\n",
      ">>> Epoch: 31 | Samples Seen: 1500 -------------------------------------------------------------------------------------\n"
     ]
    },
    {
     "name": "stderr",
     "output_type": "stream",
     "text": [
      "SAIL Pipeline Progressive Score: 100%========== [Points: 50/50, Elapsed:0.0019s, Metric=Accuracy, Batch Size=50, P_Score=0.92]\n",
      "SAIL Drift detection: 100%========== [Points: 50/50, Elapsed:0.0101s, Detector=EDDM, Batch Size=50, Param=differene, Drift=No]\n",
      "SAIL Pipeline Partial fit: 100%========== [Steps: 2/2, ETA: 00:00<00:00, Elapsed:0.057s, Batch Size=50, P_Score=0.92]             \n"
     ]
    },
    {
     "name": "stdout",
     "output_type": "stream",
     "text": [
      "\n",
      ">>> Epoch: 32 | Samples Seen: 1550 -------------------------------------------------------------------------------------\n"
     ]
    },
    {
     "name": "stderr",
     "output_type": "stream",
     "text": [
      "SAIL Pipeline Progressive Score: 100%========== [Points: 50/50, Elapsed:0.0015s, Metric=Accuracy, Batch Size=50, P_Score=0.923]\n",
      "SAIL Drift detection: 100%========== [Points: 50/50, Elapsed:0.0013s, Detector=EDDM, Batch Size=50, Param=differene, Drift=No]\n",
      "SAIL Pipeline Partial fit: 100%========== [Steps: 2/2, ETA: 00:00<00:00, Elapsed:0.057s, Batch Size=50, P_Score=0.923]             \n"
     ]
    },
    {
     "name": "stdout",
     "output_type": "stream",
     "text": [
      "\n",
      ">>> Epoch: 33 | Samples Seen: 1600 -------------------------------------------------------------------------------------\n"
     ]
    },
    {
     "name": "stderr",
     "output_type": "stream",
     "text": [
      "SAIL Pipeline Progressive Score: 100%========== [Points: 50/50, Elapsed:0.0013s, Metric=Accuracy, Batch Size=50, P_Score=0.92]\n",
      "SAIL Drift detection: 100%========== [Points: 50/50, Elapsed:0.0009s, Detector=EDDM, Batch Size=50, Param=differene, Drift=No]\n",
      "SAIL Pipeline Partial fit: 100%========== [Steps: 2/2, ETA: 00:00<00:00, Elapsed:0.055s, Batch Size=50, P_Score=0.92]             \n"
     ]
    },
    {
     "name": "stdout",
     "output_type": "stream",
     "text": [
      "\n",
      ">>> Epoch: 34 | Samples Seen: 1650 -------------------------------------------------------------------------------------\n"
     ]
    },
    {
     "name": "stderr",
     "output_type": "stream",
     "text": [
      "SAIL Pipeline Progressive Score: 100%========== [Points: 50/50, Elapsed:0.0014s, Metric=Accuracy, Batch Size=50, P_Score=0.92]\n",
      "SAIL Drift detection: 100%========== [Points: 50/50, Elapsed:0.0010s, Detector=EDDM, Batch Size=50, Param=differene, Drift=No]\n",
      "SAIL Pipeline Partial fit: 100%========== [Steps: 2/2, ETA: 00:00<00:00, Elapsed:0.052s, Batch Size=50, P_Score=0.92]             \n"
     ]
    },
    {
     "name": "stdout",
     "output_type": "stream",
     "text": [
      "\n",
      ">>> Epoch: 35 | Samples Seen: 1700 -------------------------------------------------------------------------------------\n"
     ]
    },
    {
     "name": "stderr",
     "output_type": "stream",
     "text": [
      "SAIL Pipeline Progressive Score: 100%========== [Points: 50/50, Elapsed:0.0014s, Metric=Accuracy, Batch Size=50, P_Score=0.92]\n",
      "SAIL Drift detection: 100%========== [Points: 50/50, Elapsed:0.0009s, Detector=EDDM, Batch Size=50, Param=differene, Drift=No]\n",
      "SAIL Pipeline Partial fit: 100%========== [Steps: 2/2, ETA: 00:00<00:00, Elapsed:0.064s, Batch Size=50, P_Score=0.92]             \n"
     ]
    },
    {
     "name": "stdout",
     "output_type": "stream",
     "text": [
      "\n",
      ">>> Epoch: 36 | Samples Seen: 1750 -------------------------------------------------------------------------------------\n"
     ]
    },
    {
     "name": "stderr",
     "output_type": "stream",
     "text": [
      "SAIL Pipeline Progressive Score: 100%========== [Points: 50/50, Elapsed:0.0015s, Metric=Accuracy, Batch Size=50, P_Score=0.92]\n",
      "SAIL Drift detection: 100%========== [Points: 50/50, Elapsed:0.0010s, Detector=EDDM, Batch Size=50, Param=differene, Drift=No]\n",
      "SAIL Pipeline Partial fit: 100%========== [Steps: 2/2, ETA: 00:00<00:00, Elapsed:0.053s, Batch Size=50, P_Score=0.92]             \n"
     ]
    },
    {
     "name": "stdout",
     "output_type": "stream",
     "text": [
      "\n",
      ">>> Epoch: 37 | Samples Seen: 1800 -------------------------------------------------------------------------------------\n"
     ]
    },
    {
     "name": "stderr",
     "output_type": "stream",
     "text": [
      "SAIL Pipeline Progressive Score: 100%========== [Points: 50/50, Elapsed:0.0014s, Metric=Accuracy, Batch Size=50, P_Score=0.922]\n",
      "SAIL Drift detection: 100%========== [Points: 50/50, Elapsed:0.0011s, Detector=EDDM, Batch Size=50, Param=differene, Drift=No]\n",
      "SAIL Pipeline Partial fit: 100%========== [Steps: 2/2, ETA: 00:00<00:00, Elapsed:0.053s, Batch Size=50, P_Score=0.922]             \n"
     ]
    },
    {
     "name": "stdout",
     "output_type": "stream",
     "text": [
      "\n",
      ">>> Epoch: 38 | Samples Seen: 1850 -------------------------------------------------------------------------------------\n"
     ]
    },
    {
     "name": "stderr",
     "output_type": "stream",
     "text": [
      "SAIL Pipeline Progressive Score: 100%========== [Points: 50/50, Elapsed:0.0014s, Metric=Accuracy, Batch Size=50, P_Score=0.924]\n",
      "SAIL Drift detection: 100%========== [Points: 50/50, Elapsed:0.0010s, Detector=EDDM, Batch Size=50, Param=differene, Drift=No]\n",
      "SAIL Pipeline Partial fit: 100%========== [Steps: 2/2, ETA: 00:00<00:00, Elapsed:0.055s, Batch Size=50, P_Score=0.924]             \n"
     ]
    },
    {
     "name": "stdout",
     "output_type": "stream",
     "text": [
      "\n",
      ">>> Epoch: 39 | Samples Seen: 1900 -------------------------------------------------------------------------------------\n"
     ]
    },
    {
     "name": "stderr",
     "output_type": "stream",
     "text": [
      "SAIL Pipeline Progressive Score: 100%========== [Points: 50/50, Elapsed:0.0015s, Metric=Accuracy, Batch Size=50, P_Score=0.925]\n",
      "SAIL Drift detection: 100%========== [Points: 50/50, Elapsed:0.0010s, Detector=EDDM, Batch Size=50, Param=differene, Drift=No]\n",
      "SAIL Pipeline Partial fit: 100%========== [Steps: 2/2, ETA: 00:00<00:00, Elapsed:0.064s, Batch Size=50, P_Score=0.925]             \n"
     ]
    },
    {
     "name": "stdout",
     "output_type": "stream",
     "text": [
      "\n",
      ">>> Epoch: 40 | Samples Seen: 1950 -------------------------------------------------------------------------------------\n"
     ]
    },
    {
     "name": "stderr",
     "output_type": "stream",
     "text": [
      "SAIL Pipeline Progressive Score: 100%========== [Points: 50/50, Elapsed:0.0014s, Metric=Accuracy, Batch Size=50, P_Score=0.927]\n",
      "SAIL Drift detection: 100%========== [Points: 50/50, Elapsed:0.0012s, Detector=EDDM, Batch Size=50, Param=differene, Drift=No]\n",
      "SAIL Pipeline Partial fit: 100%========== [Steps: 2/2, ETA: 00:00<00:00, Elapsed:0.058s, Batch Size=50, P_Score=0.927]             \n"
     ]
    },
    {
     "name": "stdout",
     "output_type": "stream",
     "text": [
      "\n",
      ">>> Epoch: 41 | Samples Seen: 2000 -------------------------------------------------------------------------------------\n"
     ]
    },
    {
     "name": "stderr",
     "output_type": "stream",
     "text": [
      "SAIL Pipeline Progressive Score: 100%========== [Points: 50/50, Elapsed:0.0015s, Metric=Accuracy, Batch Size=50, P_Score=0.927]\n",
      "SAIL Drift detection: 100%========== [Points: 50/50, Elapsed:0.0012s, Detector=EDDM, Batch Size=50, Param=differene, Drift=No]\n",
      "SAIL Pipeline Partial fit: 100%========== [Steps: 2/2, ETA: 00:00<00:00, Elapsed:0.052s, Batch Size=50, P_Score=0.927]             \n"
     ]
    },
    {
     "name": "stdout",
     "output_type": "stream",
     "text": [
      "\n",
      ">>> Epoch: 42 | Samples Seen: 2050 -------------------------------------------------------------------------------------\n"
     ]
    },
    {
     "name": "stderr",
     "output_type": "stream",
     "text": [
      "SAIL Pipeline Progressive Score: 100%========== [Points: 50/50, Elapsed:0.0013s, Metric=Accuracy, Batch Size=50, P_Score=0.929]\n",
      "SAIL Drift detection: 100%========== [Points: 50/50, Elapsed:0.0010s, Detector=EDDM, Batch Size=50, Param=differene, Drift=No]\n",
      "SAIL Pipeline Partial fit: 100%========== [Steps: 2/2, ETA: 00:00<00:00, Elapsed:0.048s, Batch Size=50, P_Score=0.929]             \n"
     ]
    },
    {
     "name": "stdout",
     "output_type": "stream",
     "text": [
      "\n",
      ">>> Epoch: 43 | Samples Seen: 2100 -------------------------------------------------------------------------------------\n"
     ]
    },
    {
     "name": "stderr",
     "output_type": "stream",
     "text": [
      "SAIL Pipeline Progressive Score: 100%========== [Points: 50/50, Elapsed:0.0015s, Metric=Accuracy, Batch Size=50, P_Score=0.929]\n",
      "SAIL Drift detection: 100%========== [Points: 50/50, Elapsed:0.0009s, Detector=EDDM, Batch Size=50, Param=differene, Drift=No]\n",
      "SAIL Pipeline Partial fit: 100%========== [Steps: 2/2, ETA: 00:00<00:00, Elapsed:0.051s, Batch Size=50, P_Score=0.929]             \n"
     ]
    },
    {
     "name": "stdout",
     "output_type": "stream",
     "text": [
      "\n",
      ">>> Epoch: 44 | Samples Seen: 2150 -------------------------------------------------------------------------------------\n"
     ]
    },
    {
     "name": "stderr",
     "output_type": "stream",
     "text": [
      "SAIL Pipeline Progressive Score: 100%========== [Points: 50/50, Elapsed:0.0016s, Metric=Accuracy, Batch Size=50, P_Score=0.928]\n",
      "SAIL Drift detection: 100%========== [Points: 50/50, Elapsed:0.0009s, Detector=EDDM, Batch Size=50, Param=differene, Drift=No]\n",
      "SAIL Pipeline Partial fit: 100%========== [Steps: 2/2, ETA: 00:00<00:00, Elapsed:0.049s, Batch Size=50, P_Score=0.928]             \n"
     ]
    },
    {
     "name": "stdout",
     "output_type": "stream",
     "text": [
      "\n",
      ">>> Epoch: 45 | Samples Seen: 2200 -------------------------------------------------------------------------------------\n"
     ]
    },
    {
     "name": "stderr",
     "output_type": "stream",
     "text": [
      "SAIL Pipeline Progressive Score: 100%========== [Points: 50/50, Elapsed:0.0014s, Metric=Accuracy, Batch Size=50, P_Score=0.93]\n",
      "SAIL Drift detection: 100%========== [Points: 50/50, Elapsed:0.0065s, Detector=EDDM, Batch Size=50, Param=differene, Drift=No]\n",
      "SAIL Pipeline Partial fit: 100%========== [Steps: 2/2, ETA: 00:00<00:00, Elapsed:0.057s, Batch Size=50, P_Score=0.93]             \n"
     ]
    },
    {
     "name": "stdout",
     "output_type": "stream",
     "text": [
      "\n",
      ">>> Epoch: 46 | Samples Seen: 2250 -------------------------------------------------------------------------------------\n"
     ]
    },
    {
     "name": "stderr",
     "output_type": "stream",
     "text": [
      "SAIL Pipeline Progressive Score: 100%========== [Points: 50/50, Elapsed:0.0018s, Metric=Accuracy, Batch Size=50, P_Score=0.93]\n",
      "SAIL Drift detection: 100%========== [Points: 50/50, Elapsed:0.0014s, Detector=EDDM, Batch Size=50, Param=differene, Drift=No]\n",
      "SAIL Pipeline Partial fit: 100%========== [Steps: 2/2, ETA: 00:00<00:00, Elapsed:0.054s, Batch Size=50, P_Score=0.93]             "
     ]
    },
    {
     "name": "stdout",
     "output_type": "stream",
     "text": [
      "\n",
      ">>> Epoch: 47 | Samples Seen: 2300 -------------------------------------------------------------------------------------\n"
     ]
    },
    {
     "name": "stderr",
     "output_type": "stream",
     "text": [
      "\n",
      "SAIL Pipeline Progressive Score: 100%========== [Points: 50/50, Elapsed:0.0024s, Metric=Accuracy, Batch Size=50, P_Score=0.929]\n",
      "SAIL Drift detection: 100%========== [Points: 50/50, Elapsed:0.0012s, Detector=EDDM, Batch Size=50, Param=differene, Drift=No]\n",
      "SAIL Pipeline Partial fit: 100%========== [Steps: 2/2, ETA: 00:00<00:00, Elapsed:0.058s, Batch Size=50, P_Score=0.929]             \n"
     ]
    },
    {
     "name": "stdout",
     "output_type": "stream",
     "text": [
      "\n",
      ">>> Epoch: 48 | Samples Seen: 2350 -------------------------------------------------------------------------------------\n"
     ]
    },
    {
     "name": "stderr",
     "output_type": "stream",
     "text": [
      "SAIL Pipeline Progressive Score: 100%========== [Points: 50/50, Elapsed:0.0020s, Metric=Accuracy, Batch Size=50, P_Score=0.929]\n",
      "SAIL Drift detection:   4%           [Points: 2/50, Elapsed:0.0021s, Detector=EDDM, Batch Size=50, Param=differene, Drift=Yes]\n",
      "[2023-09-11 00:12:47:69] - INFO - SAIL (PipelineStrategy) - Drift Detected in the data. Final Estimator will be incrementally trained on the next train()\n",
      "[2023-09-11 00:12:47:70] - WARNING - SAIL (SAILAutoPipeline) - The current best pipeline is STALE. Pipeline becomes stale when data drift occurs. You can call 'train' with fresh data to get the best pipeline.\n"
     ]
    },
    {
     "name": "stdout",
     "output_type": "stream",
     "text": [
      "\n",
      ">>> Epoch: 49 | Samples Seen: 2400 -------------------------------------------------------------------------------------\n"
     ]
    },
    {
     "name": "stderr",
     "output_type": "stream",
     "text": [
      "SAIL Model Partial fit: 100%========== [ETA: 00:00<00:00, Elapsed:0.070s, Model=AdaptiveRandomForestClassifier, Batch Size=50, P_Score=0.929]\n"
     ]
    },
    {
     "name": "stdout",
     "output_type": "stream",
     "text": [
      "\n",
      ">>> Epoch: 50 | Samples Seen: 2450 -------------------------------------------------------------------------------------\n"
     ]
    },
    {
     "name": "stderr",
     "output_type": "stream",
     "text": [
      "SAIL Pipeline Progressive Score: 100%========== [Points: 50/50, Elapsed:0.0017s, Metric=Accuracy, Batch Size=50, P_Score=0.929]\n",
      "SAIL Drift detection: 100%========== [Points: 50/50, Elapsed:0.0011s, Detector=EDDM, Batch Size=50, Param=differene, Drift=No]\n",
      "SAIL Pipeline Partial fit: 100%========== [Steps: 2/2, ETA: 00:00<00:00, Elapsed:0.060s, Batch Size=50, P_Score=0.929]             "
     ]
    },
    {
     "name": "stdout",
     "output_type": "stream",
     "text": [
      "\n",
      ">>> Epoch: 51 | Samples Seen: 2500 -------------------------------------------------------------------------------------"
     ]
    },
    {
     "name": "stderr",
     "output_type": "stream",
     "text": [
      "\n"
     ]
    },
    {
     "name": "stdout",
     "output_type": "stream",
     "text": [
      "\n"
     ]
    },
    {
     "name": "stderr",
     "output_type": "stream",
     "text": [
      "SAIL Pipeline Progressive Score: 100%========== [Points: 50/50, Elapsed:0.0016s, Metric=Accuracy, Batch Size=50, P_Score=0.931]\n",
      "SAIL Drift detection: 100%========== [Points: 50/50, Elapsed:0.0013s, Detector=EDDM, Batch Size=50, Param=differene, Drift=No]\n",
      "SAIL Pipeline Partial fit: 100%========== [Steps: 2/2, ETA: 00:00<00:00, Elapsed:0.054s, Batch Size=50, P_Score=0.931]             \n"
     ]
    },
    {
     "name": "stdout",
     "output_type": "stream",
     "text": [
      "\n",
      ">>> Epoch: 52 | Samples Seen: 2550 -------------------------------------------------------------------------------------\n"
     ]
    },
    {
     "name": "stderr",
     "output_type": "stream",
     "text": [
      "SAIL Pipeline Progressive Score: 100%========== [Points: 50/50, Elapsed:0.0016s, Metric=Accuracy, Batch Size=50, P_Score=0.928]\n",
      "SAIL Drift detection: 100%========== [Points: 50/50, Elapsed:0.0014s, Detector=EDDM, Batch Size=50, Param=differene, Drift=No]\n",
      "SAIL Pipeline Partial fit: 100%========== [Steps: 2/2, ETA: 00:00<00:00, Elapsed:0.059s, Batch Size=50, P_Score=0.928]             \n"
     ]
    },
    {
     "name": "stdout",
     "output_type": "stream",
     "text": [
      "\n",
      ">>> Epoch: 53 | Samples Seen: 2600 -------------------------------------------------------------------------------------\n"
     ]
    },
    {
     "name": "stderr",
     "output_type": "stream",
     "text": [
      "SAIL Pipeline Progressive Score: 100%========== [Points: 50/50, Elapsed:0.0018s, Metric=Accuracy, Batch Size=50, P_Score=0.926]\n",
      "SAIL Drift detection: 100%========== [Points: 50/50, Elapsed:0.0011s, Detector=EDDM, Batch Size=50, Param=differene, Drift=No]\n",
      "SAIL Pipeline Partial fit: 100%========== [Steps: 2/2, ETA: 00:00<00:00, Elapsed:0.057s, Batch Size=50, P_Score=0.926]             \n"
     ]
    },
    {
     "name": "stdout",
     "output_type": "stream",
     "text": [
      "\n",
      ">>> Epoch: 54 | Samples Seen: 2650 -------------------------------------------------------------------------------------\n"
     ]
    },
    {
     "name": "stderr",
     "output_type": "stream",
     "text": [
      "SAIL Pipeline Progressive Score: 100%========== [Points: 50/50, Elapsed:0.0018s, Metric=Accuracy, Batch Size=50, P_Score=0.926]\n",
      "SAIL Drift detection: 100%========== [Points: 50/50, Elapsed:0.0015s, Detector=EDDM, Batch Size=50, Param=differene, Drift=No]\n",
      "SAIL Pipeline Partial fit: 100%========== [Steps: 2/2, ETA: 00:00<00:00, Elapsed:0.063s, Batch Size=50, P_Score=0.926]             \n"
     ]
    },
    {
     "name": "stdout",
     "output_type": "stream",
     "text": [
      "\n",
      ">>> Epoch: 55 | Samples Seen: 2700 -------------------------------------------------------------------------------------\n"
     ]
    },
    {
     "name": "stderr",
     "output_type": "stream",
     "text": [
      "SAIL Pipeline Progressive Score: 100%========== [Points: 50/50, Elapsed:0.0041s, Metric=Accuracy, Batch Size=50, P_Score=0.925]\n",
      "SAIL Drift detection: 100%========== [Points: 50/50, Elapsed:0.0014s, Detector=EDDM, Batch Size=50, Param=differene, Drift=No]\n",
      "SAIL Pipeline Partial fit: 100%========== [Steps: 2/2, ETA: 00:00<00:00, Elapsed:0.061s, Batch Size=50, P_Score=0.925]             \n"
     ]
    },
    {
     "name": "stdout",
     "output_type": "stream",
     "text": [
      "\n",
      ">>> Epoch: 56 | Samples Seen: 2750 -------------------------------------------------------------------------------------\n"
     ]
    },
    {
     "name": "stderr",
     "output_type": "stream",
     "text": [
      "SAIL Pipeline Progressive Score: 100%========== [Points: 50/50, Elapsed:0.0017s, Metric=Accuracy, Batch Size=50, P_Score=0.925]\n",
      "SAIL Drift detection: 100%========== [Points: 50/50, Elapsed:0.0013s, Detector=EDDM, Batch Size=50, Param=differene, Drift=No]\n",
      "SAIL Pipeline Partial fit: 100%========== [Steps: 2/2, ETA: 00:00<00:00, Elapsed:0.058s, Batch Size=50, P_Score=0.925]             \n"
     ]
    },
    {
     "name": "stdout",
     "output_type": "stream",
     "text": [
      "\n",
      ">>> Epoch: 57 | Samples Seen: 2800 -------------------------------------------------------------------------------------\n"
     ]
    },
    {
     "name": "stderr",
     "output_type": "stream",
     "text": [
      "SAIL Pipeline Progressive Score: 100%========== [Points: 50/50, Elapsed:0.0019s, Metric=Accuracy, Batch Size=50, P_Score=0.926]\n",
      "SAIL Drift detection: 100%========== [Points: 50/50, Elapsed:0.0011s, Detector=EDDM, Batch Size=50, Param=differene, Drift=No]\n",
      "SAIL Pipeline Partial fit: 100%========== [Steps: 2/2, ETA: 00:00<00:00, Elapsed:0.061s, Batch Size=50, P_Score=0.926]             \n"
     ]
    },
    {
     "name": "stdout",
     "output_type": "stream",
     "text": [
      "\n",
      ">>> Epoch: 58 | Samples Seen: 2850 -------------------------------------------------------------------------------------\n"
     ]
    },
    {
     "name": "stderr",
     "output_type": "stream",
     "text": [
      "SAIL Pipeline Progressive Score: 100%========== [Points: 50/50, Elapsed:0.0018s, Metric=Accuracy, Batch Size=50, P_Score=0.926]\n",
      "SAIL Drift detection:   6%           [Points: 3/50, Elapsed:0.0018s, Detector=EDDM, Batch Size=50, Param=differene, Drift=Yes]\n",
      "[2023-09-11 00:12:48:31] - INFO - SAIL (PipelineStrategy) - Drift Detected in the data. Final Estimator will be incrementally trained on the next train()\n",
      "[2023-09-11 00:12:48:31] - WARNING - SAIL (SAILAutoPipeline) - The current best pipeline is STALE. Pipeline becomes stale when data drift occurs. You can call 'train' with fresh data to get the best pipeline.\n"
     ]
    },
    {
     "name": "stdout",
     "output_type": "stream",
     "text": [
      "\n",
      ">>> Epoch: 59 | Samples Seen: 2900 -------------------------------------------------------------------------------------\n"
     ]
    },
    {
     "name": "stderr",
     "output_type": "stream",
     "text": [
      "SAIL Model Partial fit: 100%========== [ETA: 00:00<00:00, Elapsed:0.066s, Model=AdaptiveRandomForestClassifier, Batch Size=50, P_Score=0.926]\n"
     ]
    },
    {
     "name": "stdout",
     "output_type": "stream",
     "text": [
      "\n",
      ">>> Epoch: 60 | Samples Seen: 2950 -------------------------------------------------------------------------------------\n"
     ]
    },
    {
     "name": "stderr",
     "output_type": "stream",
     "text": [
      "SAIL Pipeline Progressive Score: 100%========== [Points: 50/50, Elapsed:0.0035s, Metric=Accuracy, Batch Size=50, P_Score=0.926]\n",
      "SAIL Drift detection: 100%========== [Points: 50/50, Elapsed:0.0013s, Detector=EDDM, Batch Size=50, Param=differene, Drift=No]\n",
      "SAIL Pipeline Partial fit: 100%========== [Steps: 2/2, ETA: 00:00<00:00, Elapsed:0.052s, Batch Size=50, P_Score=0.926]             \n"
     ]
    }
   ],
   "source": [
    "for start in range(1501, 3001, batch_size):\n",
    "\n",
    "    end = start + batch_size\n",
    "\n",
    "    X_train = X.iloc[start:end]\n",
    "    y_train = y.iloc[start:end]\n",
    "\n",
    "    if end > 1000: # search_data_size is 1000\n",
    "        preds = new_auto_pipeline.predict(X_train)\n",
    "        if preds is not None:\n",
    "            y_preds.extend(list(preds))\n",
    "            y_true.extend(list(y_train))\n",
    "\n",
    "    new_auto_pipeline.train(X_train, y_train, classifier__classes=[1, 0])\n"
   ]
  },
  {
   "attachments": {},
   "cell_type": "markdown",
   "metadata": {},
   "source": [
    "#### Classification Report\n"
   ]
  },
  {
   "cell_type": "code",
   "execution_count": 8,
   "metadata": {},
   "outputs": [
    {
     "name": "stdout",
     "output_type": "stream",
     "text": [
      "              precision    recall  f1-score   support\n",
      "\n",
      "           0       0.93      0.97      0.95       652\n",
      "           1       0.94      0.86      0.90       348\n",
      "\n",
      "    accuracy                           0.93      1000\n",
      "   macro avg       0.93      0.92      0.92      1000\n",
      "weighted avg       0.93      0.93      0.93      1000\n",
      "\n"
     ]
    }
   ],
   "source": [
    "from sklearn.metrics import confusion_matrix, classification_report\n",
    "\n",
    "print(classification_report(y_true, y_preds))"
   ]
  },
  {
   "attachments": {},
   "cell_type": "markdown",
   "metadata": {},
   "source": [
    "#### Plot confusion matrix\n"
   ]
  },
  {
   "cell_type": "code",
   "execution_count": 9,
   "metadata": {},
   "outputs": [
    {
     "data": {
      "text/plain": [
       "<Axes: >"
      ]
     },
     "execution_count": 9,
     "metadata": {},
     "output_type": "execute_result"
    },
    {
     "data": {
      "image/png": "[encoded data removed]",
      "text/plain": [
       "<Figure size 640x480 with 2 Axes>"
      ]
     },
     "metadata": {},
     "output_type": "display_data"
    }
   ],
   "source": [
    "import seaborn as sns\n",
    "\n",
    "cf_matrix = confusion_matrix(y_true, y_preds)\n",
    "sns.heatmap(cf_matrix/np.sum(cf_matrix), annot=True, fmt='.2%', cmap='Blues')"
   ]
  }
 ],
 "metadata": {
  "kernelspec": {
   "display_name": "venv-sail",
   "language": "python",
   "name": "python3"
  },
  "language_info": {
   "codemirror_mode": {
    "name": "ipython",
    "version": 3
   },
   "file_extension": ".py",
   "mimetype": "text/x-python",
   "name": "python",
   "nbconvert_exporter": "python",
   "pygments_lexer": "ipython3",
   "version": "3.10.10"
  },
  "orig_nbformat": 4
 },
 "nbformat": 4,
 "nbformat_minor": 2
}
